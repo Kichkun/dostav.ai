{
 "cells": [
  {
   "cell_type": "code",
   "execution_count": 46,
   "metadata": {},
   "outputs": [],
   "source": [
    "from __future__ import print_function\n",
    "import json\n",
    "import matplotlib.pyplot as plt\n",
    "import numpy as np\n",
    "from mpl_toolkits.mplot3d import Axes3D\n",
    "from tqdm import tqdm_notebook\n",
    "import matplotlib.pyplot as plt\n",
    "import numpy as np\n",
    "from mpl_toolkits.mplot3d import Axes3D\n",
    "from tqdm import tqdm_notebook\n",
    "from ortools.constraint_solver import routing_enums_pb2\n",
    "from ortools.constraint_solver import pywrapcp\n",
    "\n",
    "def load_data(file):\n",
    "    \"\"\"Загрузка входных данных из файла\"\"\"\n",
    "    with open(file, 'r') as f:\n",
    "        input_data = json.load(f)\n",
    "    couriers = {}\n",
    "    orders = {}\n",
    "    points = {}\n",
    "    for depotData in input_data['depots']:\n",
    "        points[depotData['point_id']] = {\n",
    "            'location': [depotData['location_x'], depotData['location_y']],\n",
    "            'timewindow': [0, 1439],\n",
    "        }\n",
    "    for courierData in input_data['couriers']:\n",
    "        couriers[courierData['courier_id']] = {\n",
    "            'location': [courierData['location_x'], courierData['location_y']],\n",
    "            'time': 360,\n",
    "        }\n",
    "    for orderData in input_data['orders']:\n",
    "        points[orderData['pickup_point_id']] = {\n",
    "            'location': [orderData['pickup_location_x'], orderData['pickup_location_y']],\n",
    "            'timewindow': [orderData['pickup_from'], orderData['pickup_to']],\n",
    "            'order_time': {orderData['order_id']: orderData['pickup_from']}\n",
    "        }\n",
    "        points[orderData['dropoff_point_id']] = {\n",
    "            'location': [orderData['dropoff_location_x'], orderData['dropoff_location_y']],\n",
    "            'timewindow': [orderData['dropoff_from'], orderData['dropoff_to']],\n",
    "        }\n",
    "        orders[orderData['order_id']] = orderData\n",
    "    return couriers, orders, points\n",
    "\n",
    "def get_travel_duration_minutes(location1, location2):\n",
    "    \"\"\"Время перемещения курьера от точки location1 до точки location2 вминутах\"\"\"\n",
    "    distance = abs(location1[0] - location2[0]) + abs(location1[1] - location2[1])\n",
    "    return 10 + distance\n",
    "\n",
    "def get_current_courier_reward(time, payment):\n",
    "    work_payment = time * 2\n",
    "    profit = orders_payment - work_payment\n",
    "    return profit\n",
    "\n",
    "def delete_element(array, idx):\n",
    "    result = []\n",
    "    for i in range(len(array)):\n",
    "        if not(i == idx):\n",
    "            result.append(array[i])\n",
    "    return result"
   ]
  },
  {
   "cell_type": "code",
   "execution_count": 47,
   "metadata": {},
   "outputs": [],
   "source": [
    "tmp = []\n",
    "tmp.append(((data[1][10001]['pickup_from'], data[1][10001]['pickup_to']), \n",
    "          (data[1][10002]['pickup_from'], data[1][10002]['pickup_to'])))"
   ]
  },
  {
   "cell_type": "code",
   "execution_count": 48,
   "metadata": {},
   "outputs": [
    {
     "data": {
      "text/plain": [
       "[((360, 1380), (360, 1380))]"
      ]
     },
     "execution_count": 48,
     "metadata": {},
     "output_type": "execute_result"
    }
   ],
   "source": [
    "tmp"
   ]
  },
  {
   "cell_type": "code",
   "execution_count": 93,
   "metadata": {},
   "outputs": [
    {
     "data": {
      "text/plain": [
       "{1: {'location': [20, 20], 'time': 360},\n",
       " 2: {'location': [50, 50], 'time': 360},\n",
       " 3: {'location': [150, 20], 'time': 360},\n",
       " 4: {'location': [25, 150], 'time': 360},\n",
       " 5: {'location': [100, 300], 'time': 360}}"
      ]
     },
     "execution_count": 93,
     "metadata": {},
     "output_type": "execute_result"
    }
   ],
   "source": [
    "load_data(\"data/hard_input.json\")[0]"
   ]
  },
  {
   "cell_type": "code",
   "execution_count": 77,
   "metadata": {},
   "outputs": [],
   "source": [
    "couriers_start_position = [data[0][i+1]['location'] for i in range(len(data[0]))]\n",
    "points_pickup = np.array([[data[1][i+10001]['pickup_location_x'],\n",
    "                           data[1][i+10001]['pickup_location_y']] for i in range(len(data[1]))])\n",
    "time_pickup = np.array([[data[1][10001+i]['pickup_from'],\n",
    "                         data[1][10001+i]['pickup_to']] for i in range(len(data[1]))])\n",
    "time_dropoff = np.array([[data[1][10001+i]['dropoff_from'],\n",
    "                          data[1][10001+i]['dropoff_to']] for i in range(len(data[1]))])    \n",
    "points_dropoff = np.array([[data[1][i+10001]['dropoff_location_x'],\n",
    "                            data[1][i+10001]['dropoff_location_y']] for i in range(len(data[1]))])\n",
    "payments = np.array([data[1][10001+i]['payment'] for i in range(len(data[1]))])\n",
    "pickup_id = np.array([data[1][10001+i]['pickup_point_id'] for i in range(len(data[1]))])\n",
    "dropoff_id = np.array([data[1][10001+i]['dropoff_point_id'] for i in range(len(data[1]))])"
   ]
  },
  {
   "cell_type": "code",
   "execution_count": 78,
   "metadata": {},
   "outputs": [
    {
     "data": {
      "text/plain": [
       "5"
      ]
     },
     "execution_count": 78,
     "metadata": {},
     "output_type": "execute_result"
    }
   ],
   "source": [
    "len(data[1])"
   ]
  },
  {
   "cell_type": "code",
   "execution_count": 79,
   "metadata": {},
   "outputs": [],
   "source": [
    "from tqdm import tqdm_notebook\n",
    "\n",
    "def get_by_id(point_id):\n",
    "    if point_id < 10000:\n",
    "        return couriers_start_position[point_id]\n",
    "    if point_id < 60000:\n",
    "        return points_pickup[point_id-40001]\n",
    "    else:\n",
    "        return points_dropoff[point_id-60001]\n",
    "\n",
    "def pad_with(vector, pad_width, iaxis, kwargs):\n",
    "    pad_value = kwargs.get('padder', 0)\n",
    "    vector[:pad_width[0]] = pad_value\n",
    "    vector[-pad_width[1]:] = pad_value\n",
    "    return vector \n",
    "\n",
    "\n",
    "def get_directions_table(pickup_ids):\n",
    "    directions_table = []\n",
    "    for pickup_id in pickup_ids:\n",
    "        n = pickup_id - 40001\n",
    "        n_pickup_in_table = len(data[0]) + n\n",
    "        n_dropoff_in_table = len(data[0]) + len(data[1]) + n \n",
    "        directions_table.append([n_pickup_in_table, n_dropoff_in_table])\n",
    "    return directions_table\n",
    "\n",
    "def get_time_windows(pickup_id, dropoff_id, n_couriers):\n",
    "    tmp_string = np.concatenate((np.array(range(n_couriers)), \n",
    "                                 pickup_id, \n",
    "                                 dropoff_id))\n",
    "    tmp_couriers = [(360,1440) for i in range(n_couriers)]\n",
    "    tmp_pickup = []\n",
    "    tmp_dropoff = []\n",
    "    for i in tqdm_notebook(range(len(pickup_id))):\n",
    "        tmp_pickup.append((data[1][pickup_id[i] - 30000]['pickup_from'], \n",
    "                           data[1][pickup_id[i]-30000]['pickup_to']))\n",
    "        tmp_dropoff.append((data[1][dropoff_id[i] - 50000]['dropoff_from'], \n",
    "                           data[1][dropoff_id[i]-50000]['dropoff_to']))\n",
    "    result = []\n",
    "    for i in tqdm_notebook(range(len(tmp_couriers))):\n",
    "        result.append(tmp_couriers[i])\n",
    "    for i in range(len(tmp_pickup)):\n",
    "        result.append(tmp_pickup[i])\n",
    "    for i in range(len(tmp_dropoff)):\n",
    "        result.append(tmp_dropoff[i])\n",
    "    return result\n",
    "    \n",
    "def get_time_windows(pickup_id, dropoff_id, n_couriers):\n",
    "    tmp_string = np.concatenate((np.array(range(n_couriers)), \n",
    "                                 pickup_id, \n",
    "                                 dropoff_id))\n",
    "    tmp_couriers = [(360,1440) for i in range(n_couriers)]\n",
    "    tmp_pickup = []\n",
    "    tmp_dropoff = []\n",
    "    for i in tqdm_notebook(range(len(pickup_id))):\n",
    "        tmp_pickup.append((data[1][pickup_id[i] - 30000]['pickup_from'], \n",
    "                           data[1][pickup_id[i]-30000]['pickup_to']))\n",
    "        tmp_dropoff.append((data[1][dropoff_id[i] - 50000]['dropoff_from'], \n",
    "                           data[1][dropoff_id[i]-50000]['dropoff_to']))\n",
    "    result = []\n",
    "    for i in tqdm_notebook(range(len(tmp_couriers))):\n",
    "        result.append(tmp_couriers[i])\n",
    "    for i in range(len(tmp_pickup)):\n",
    "        result.append(tmp_pickup[i])\n",
    "    for i in range(len(tmp_dropoff)):\n",
    "        result.append(tmp_dropoff[i])\n",
    "    return result\n",
    "\n",
    "\n",
    "def create_distance_matrix(pickup_id, dropoff_id, n_couriers):\n",
    "    tmp_string = np.concatenate((np.array(range(n_couriers)), \n",
    "                                 pickup_id, \n",
    "                                 dropoff_id))\n",
    "    n_pickup = len(data[1])\n",
    "    n_dropoff = len(data[1])\n",
    "    matrix = []\n",
    "    for i in tqdm_notebook(range(len(tmp_string))):\n",
    "        tmp = []\n",
    "        for j in range(len(tmp_string)):\n",
    "            tmp.append(get_travel_duration_minutes(get_by_id(tmp_string[j]), \n",
    "                                                   get_by_id(tmp_string[i])))\n",
    "            \n",
    "            \n",
    "        matrix.append(tmp)\n",
    "    return np.pad(matrix, 1, pad_with)[:-1,:-1]"
   ]
  },
  {
   "cell_type": "code",
   "execution_count": 80,
   "metadata": {},
   "outputs": [
    {
     "data": {
      "application/vnd.jupyter.widget-view+json": {
       "model_id": "143fc0801c7f48ab9a4c7cfda46946a7",
       "version_major": 2,
       "version_minor": 0
      },
      "text/plain": [
       "HBox(children=(IntProgress(value=0, max=5), HTML(value='')))"
      ]
     },
     "metadata": {},
     "output_type": "display_data"
    },
    {
     "data": {
      "application/vnd.jupyter.widget-view+json": {
       "model_id": "4d4f22241aaf4c4e8131d3a19aec34d4",
       "version_major": 2,
       "version_minor": 0
      },
      "text/plain": [
       "HBox(children=(IntProgress(value=0, max=5), HTML(value='')))"
      ]
     },
     "metadata": {},
     "output_type": "display_data"
    }
   ],
   "source": [
    "time_windows = get_time_windows(pickup_id, dropoff_id, n_couriers=len(data[0]))"
   ]
  },
  {
   "cell_type": "code",
   "execution_count": 81,
   "metadata": {},
   "outputs": [],
   "source": [
    "dist=get_directions_table(pickup_id)"
   ]
  },
  {
   "cell_type": "code",
   "execution_count": 82,
   "metadata": {},
   "outputs": [
    {
     "data": {
      "text/plain": [
       "5"
      ]
     },
     "execution_count": 82,
     "metadata": {},
     "output_type": "execute_result"
    }
   ],
   "source": [
    "len(data[1])"
   ]
  },
  {
   "cell_type": "code",
   "execution_count": 83,
   "metadata": {},
   "outputs": [
    {
     "data": {
      "text/plain": [
       "{10001: {'order_id': 10001,\n",
       "  'pickup_point_id': 40001,\n",
       "  'pickup_location_x': 20,\n",
       "  'pickup_location_y': 100,\n",
       "  'pickup_from': 360,\n",
       "  'pickup_to': 1380,\n",
       "  'dropoff_point_id': 60001,\n",
       "  'dropoff_location_x': 60,\n",
       "  'dropoff_location_y': 110,\n",
       "  'dropoff_from': 360,\n",
       "  'dropoff_to': 1180,\n",
       "  'payment': 900},\n",
       " 10002: {'order_id': 10002,\n",
       "  'pickup_point_id': 40002,\n",
       "  'pickup_location_x': 55,\n",
       "  'pickup_location_y': 100,\n",
       "  'pickup_from': 360,\n",
       "  'pickup_to': 1380,\n",
       "  'dropoff_point_id': 60002,\n",
       "  'dropoff_location_x': 63,\n",
       "  'dropoff_location_y': 130,\n",
       "  'dropoff_from': 560,\n",
       "  'dropoff_to': 1380,\n",
       "  'payment': 900},\n",
       " 10003: {'order_id': 10003,\n",
       "  'pickup_point_id': 40003,\n",
       "  'pickup_location_x': 16,\n",
       "  'pickup_location_y': 104,\n",
       "  'pickup_from': 420,\n",
       "  'pickup_to': 720,\n",
       "  'dropoff_point_id': 60003,\n",
       "  'dropoff_location_x': 67,\n",
       "  'dropoff_location_y': 150,\n",
       "  'dropoff_from': 360,\n",
       "  'dropoff_to': 720,\n",
       "  'payment': 900},\n",
       " 10004: {'order_id': 10004,\n",
       "  'pickup_point_id': 40004,\n",
       "  'pickup_location_x': 66,\n",
       "  'pickup_location_y': 92,\n",
       "  'pickup_from': 600,\n",
       "  'pickup_to': 1200,\n",
       "  'dropoff_point_id': 60004,\n",
       "  'dropoff_location_x': 147,\n",
       "  'dropoff_location_y': 84,\n",
       "  'dropoff_from': 800,\n",
       "  'dropoff_to': 1400,\n",
       "  'payment': 900},\n",
       " 10005: {'order_id': 10005,\n",
       "  'pickup_point_id': 40005,\n",
       "  'pickup_location_x': 156,\n",
       "  'pickup_location_y': 30,\n",
       "  'pickup_from': 480,\n",
       "  'pickup_to': 1380,\n",
       "  'dropoff_point_id': 60005,\n",
       "  'dropoff_location_x': 164,\n",
       "  'dropoff_location_y': 91,\n",
       "  'dropoff_from': 960,\n",
       "  'dropoff_to': 1380,\n",
       "  'payment': 900}}"
      ]
     },
     "execution_count": 83,
     "metadata": {},
     "output_type": "execute_result"
    }
   ],
   "source": [
    "data[1]"
   ]
  },
  {
   "cell_type": "code",
   "execution_count": 84,
   "metadata": {
    "scrolled": true
   },
   "outputs": [
    {
     "data": {
      "application/vnd.jupyter.widget-view+json": {
       "model_id": "c3aa825290684022a2666f530c5d8bfe",
       "version_major": 2,
       "version_minor": 0
      },
      "text/plain": [
       "HBox(children=(IntProgress(value=0, max=15), HTML(value='')))"
      ]
     },
     "metadata": {},
     "output_type": "display_data"
    }
   ],
   "source": [
    "matrix = create_distance_matrix(pickup_id, dropoff_id, len(data[0]))"
   ]
  },
  {
   "cell_type": "code",
   "execution_count": 85,
   "metadata": {},
   "outputs": [
    {
     "data": {
      "text/plain": [
       "[(360, 1440), (360, 1440), (360, 1440)]"
      ]
     },
     "execution_count": 85,
     "metadata": {},
     "output_type": "execute_result"
    }
   ],
   "source": [
    "[(360,1440) for i in range(3)]"
   ]
  },
  {
   "cell_type": "code",
   "execution_count": 86,
   "metadata": {},
   "outputs": [],
   "source": [
    "n_couriers = len(data[0])"
   ]
  },
  {
   "cell_type": "code",
   "execution_count": 87,
   "metadata": {},
   "outputs": [],
   "source": [
    "def create_data_model(matrix, dist, n_couriers, time_windows):\n",
    "    d = {'distance_matrix': matrix, \n",
    "         'pickups_deliveries':dist,\n",
    "        'num_vehicles':n_couriers,\n",
    "        'depot':0,\n",
    "         'time_windows':time_windows}\n",
    "    return d\n",
    "    # [END data_model]\n"
   ]
  },
  {
   "cell_type": "code",
   "execution_count": 88,
   "metadata": {},
   "outputs": [
    {
     "data": {
      "text/plain": [
       "{'distance_matrix': array([[  0,   0,   0,   0,   0,   0,   0,   0,   0,   0,   0,   0,   0,\n",
       "           0,   0,   0],\n",
       "        [  0,  10,  70, 140, 145, 370,  90, 125,  98, 128, 156, 140, 163,\n",
       "         187, 201, 225],\n",
       "        [  0,  70,  10, 140, 135, 310,  90,  65,  98,  68, 136,  80, 103,\n",
       "         127, 141, 165],\n",
       "        [  0, 140, 140,  10, 265, 340, 220, 185, 228, 166,  26, 190, 207,\n",
       "         223,  77,  95],\n",
       "        [  0, 145, 135, 265,  10, 235,  65,  90,  65, 109, 261,  85,  68,\n",
       "          52, 198, 208],\n",
       "        [  0, 370, 310, 340, 235,  10, 290, 255, 290, 252, 336, 240, 217,\n",
       "         193, 273, 283],\n",
       "        [  0,  90,  90, 220,  65, 290,  10,  45,  18,  64, 216,  60,  83,\n",
       "         107, 153, 163],\n",
       "        [  0, 125,  65, 185,  90, 255,  45,  10,  53,  29, 181,  25,  48,\n",
       "          72, 118, 128],\n",
       "        [  0,  98,  98, 228,  65, 290,  18,  53,  10,  72, 224,  60,  83,\n",
       "         107, 161, 171],\n",
       "        [  0, 128,  68, 166, 109, 252,  64,  29,  72,  10, 162,  34,  51,\n",
       "          69,  99, 109],\n",
       "        [  0, 156, 136,  26, 261, 336, 216, 181, 224, 162,  10, 186, 203,\n",
       "         219,  73,  79],\n",
       "        [  0, 140,  80, 190,  85, 240,  60,  25,  60,  34, 186,  10,  33,\n",
       "          57, 123, 133],\n",
       "        [  0, 163, 103, 207,  68, 217,  83,  48,  83,  51, 203,  33,  10,\n",
       "          34, 140, 150],\n",
       "        [  0, 187, 127, 223,  52, 193, 107,  72, 107,  69, 219,  57,  34,\n",
       "          10, 156, 166],\n",
       "        [  0, 201, 141,  77, 198, 273, 153, 118, 161,  99,  73, 123, 140,\n",
       "         156,  10,  34],\n",
       "        [  0, 225, 165,  95, 208, 283, 163, 128, 171, 109,  79, 133, 150,\n",
       "         166,  34,  10]]),\n",
       " 'pickups_deliveries': [[5, 10], [6, 11], [7, 12], [8, 13], [9, 14]],\n",
       " 'num_vehicles': 5,\n",
       " 'depot': 0,\n",
       " 'time_windows': [(360, 1440),\n",
       "  (360, 1440),\n",
       "  (360, 1440),\n",
       "  (360, 1440),\n",
       "  (360, 1440),\n",
       "  (360, 1380),\n",
       "  (360, 1380),\n",
       "  (420, 720),\n",
       "  (600, 1200),\n",
       "  (480, 1380),\n",
       "  (360, 1180),\n",
       "  (560, 1380),\n",
       "  (360, 720),\n",
       "  (800, 1400),\n",
       "  (960, 1380)]}"
      ]
     },
     "execution_count": 88,
     "metadata": {},
     "output_type": "execute_result"
    }
   ],
   "source": [
    "create_data_model(matrix, dist, n_couriers, time_windows)"
   ]
  },
  {
   "cell_type": "code",
   "execution_count": 90,
   "metadata": {},
   "outputs": [
    {
     "name": "stdout",
     "output_type": "stream",
     "text": [
      "360 1440\n",
      "360 1440\n",
      "360 1440\n",
      "360 1440\n",
      "360 1380\n",
      "360 1380\n",
      "420 720\n",
      "600 1200\n",
      "480 1380\n",
      "360 1180\n",
      "560 1380\n",
      "360 720\n",
      "800 1400\n",
      "960 1380\n",
      "Route for vehicle 0:\n",
      " 0 ->  6 ->  8 ->  7 ->  11 ->  12 ->  13 ->  4 -> 0\n",
      "Distance of the route: 215m\n",
      "\n",
      "Route for vehicle 1:\n",
      " 0 ->  5 ->  10 -> 0\n",
      "Distance of the route: 336m\n",
      "\n",
      "Route for vehicle 2:\n",
      " 0 ->  2 ->  9 ->  14 ->  15 -> 0\n",
      "Distance of the route: 201m\n",
      "\n",
      "Route for vehicle 3:\n",
      " 0 ->  1 -> 0\n",
      "Distance of the route: 0m\n",
      "\n",
      "Route for vehicle 4:\n",
      " 0 ->  3 -> 0\n",
      "Distance of the route: 0m\n",
      "\n",
      "Total Distance of all routes: 752m\n"
     ]
    }
   ],
   "source": [
    "def print_solution(data, manager, routing, assignment):\n",
    "    \"\"\"Prints assignment on console.\"\"\"\n",
    "    total_distance = 0\n",
    "    for vehicle_id in range(data['num_vehicles']):\n",
    "        index = routing.Start(vehicle_id)\n",
    "        plan_output = 'Route for vehicle {}:\\n'.format(vehicle_id)\n",
    "        route_distance = 0\n",
    "        while not routing.IsEnd(index):\n",
    "            plan_output += ' {} -> '.format(manager.IndexToNode(index))\n",
    "            previous_index = index\n",
    "            index = assignment.Value(routing.NextVar(index))\n",
    "            route_distance += routing.GetArcCostForVehicle(\n",
    "                previous_index, index, vehicle_id)\n",
    "        plan_output += '{}\\n'.format(manager.IndexToNode(index))\n",
    "        plan_output += 'Distance of the route: {}m\\n'.format(route_distance)\n",
    "        print(plan_output)\n",
    "        total_distance += route_distance\n",
    "    print('Total Distance of all routes: {}m'.format(total_distance))\n",
    "    # [END solution_printer]\n",
    "\n",
    "\n",
    "def main():\n",
    "    \"\"\"Entry point of the program.\"\"\"\n",
    "    # Instantiate the data problem.\n",
    "    # [START data]\n",
    "    data = create_data_model(matrix, dist, n_couriers, time_windows)\n",
    "    # [END data]\n",
    "\n",
    "    # Create the routing index manager.\n",
    "    # [START index_manager]\n",
    "    manager = pywrapcp.RoutingIndexManager(\n",
    "        len(data['distance_matrix']), data['num_vehicles'], data['depot'])\n",
    "    # [END index_manager]\n",
    "\n",
    "    # Create Routing Model.\n",
    "    # [START routing_model]\n",
    "    routing = pywrapcp.RoutingModel(manager)\n",
    "\n",
    "    # [END routing_model]\n",
    "\n",
    "    # Define cost of each arc.\n",
    "    # [START arc_cost]\n",
    "    def time_callback(from_index, to_index):\n",
    "        \"\"\"Returns the travel time between the two nodes.\"\"\"\n",
    "        # Convert from routing variable Index to time matrix NodeIndex.\n",
    "        from_node = manager.IndexToNode(from_index)\n",
    "        to_node = manager.IndexToNode(to_index)\n",
    "        return data['time_matrix'][from_node][to_node]\n",
    "\n",
    "    transit_callback_index = routing.RegisterTransitCallback(time_callback)\n",
    "    routing.SetArcCostEvaluatorOfAllVehicles(transit_callback_index)\n",
    "    def distance_callback(from_index, to_index):\n",
    "        \"\"\"Returns the manhattan distance between the two nodes.\"\"\"\n",
    "        # Convert from routing variable Index to distance matrix NodeIndex.\n",
    "        from_node = manager.IndexToNode(from_index)\n",
    "        to_node = manager.IndexToNode(to_index)\n",
    "        return data['distance_matrix'][from_node][to_node]\n",
    "    \n",
    "    \n",
    "    transit_callback_index = routing.RegisterTransitCallback(distance_callback)\n",
    "    routing.SetArcCostEvaluatorOfAllVehicles(transit_callback_index)\n",
    "    # [END arc_cost]\n",
    "\n",
    "    # Add Distance constraint.\n",
    "    # [START distance_constraint]\n",
    "    dimension_name = 'Distance'\n",
    "    routing.AddDimension(\n",
    "        transit_callback_index,\n",
    "        1440,  # no slack\n",
    "        500,  # vehicle maximum travel distance\n",
    "        True,  # start cumul to zero\n",
    "        dimension_name)\n",
    "    distance_dimension = routing.GetDimensionOrDie(dimension_name)\n",
    "    distance_dimension.SetGlobalSpanCostCoefficient(100)\n",
    "    # [END distance_constraint]\n",
    "    \n",
    "    time = 'Time'\n",
    "    routing.AddDimension(\n",
    "        transit_callback_index,\n",
    "        300,  # allow waiting time\n",
    "        3000,  # maximum time per vehicle\n",
    "        False,  # Don't force start cumul to zero.\n",
    "        time)\n",
    "    time_dimension = routing.GetDimensionOrDie(time)\n",
    "    # Add time window constraints for each location except depot.\n",
    "    for location_idx, time_window in enumerate(data['time_windows']):\n",
    "        if location_idx == 0:\n",
    "            continue\n",
    "        index = manager.NodeToIndex(location_idx)\n",
    "        print(time_window[0], time_window[1])\n",
    "        time_dimension.CumulVar(index).SetRange(time_window[0], time_window[1])\n",
    "    # Add time window constraints for each vehicle start node.\n",
    "    for vehicle_id in range(data['num_vehicles']):\n",
    "        index = routing.Start(vehicle_id)\n",
    "        time_dimension.CumulVar(index).SetRange(data['time_windows'][0][0],\n",
    "                                                data['time_windows'][0][1])\n",
    "    for i in range(data['num_vehicles']):\n",
    "        routing.AddVariableMinimizedByFinalizer(\n",
    "            time_dimension.CumulVar(routing.Start(i)))\n",
    "        routing.AddVariableMinimizedByFinalizer(\n",
    "            time_dimension.CumulVar(routing.End(i)))\n",
    "        \n",
    "    # Define Transportation Requests.\n",
    "    # [START pickup_delivery_constraint]\n",
    "    for request in data['pickups_deliveries']:\n",
    "        pickup_index = manager.NodeToIndex(request[0])\n",
    "        delivery_index = manager.NodeToIndex(request[1])\n",
    "        routing.AddPickupAndDelivery(pickup_index, delivery_index)\n",
    "        routing.solver().Add(\n",
    "            routing.VehicleVar(pickup_index) == routing.VehicleVar(\n",
    "                delivery_index))\n",
    "        routing.solver().Add(\n",
    "            distance_dimension.CumulVar(pickup_index) <=\n",
    "            distance_dimension.CumulVar(delivery_index))\n",
    "    # [END pickup_delivery_constraint]\n",
    "\n",
    "    # Setting first solution heuristic.\n",
    "    # [START parameters]\n",
    "    search_parameters = pywrapcp.DefaultRoutingSearchParameters()\n",
    "    search_parameters.first_solution_strategy = (\n",
    "        routing_enums_pb2.FirstSolutionStrategy.PARALLEL_CHEAPEST_INSERTION)\n",
    "    # [END parameters]\n",
    "\n",
    "    # Solve the problem.\n",
    "    # [START solve]\n",
    "    assignment = routing.SolveWithParameters(search_parameters)\n",
    "    # [END solve]\n",
    "\n",
    "    # Print solution on console.\n",
    "    # [START print_solution]\n",
    "    if assignment:\n",
    "        print_solution(data, manager, routing, assignment)\n",
    "    # [END print_solution]\n",
    "\n",
    "\n",
    "if __name__ == '__main__':\n",
    "    main()\n",
    "# [END program]"
   ]
  },
  {
   "cell_type": "code",
   "execution_count": null,
   "metadata": {},
   "outputs": [],
   "source": []
  },
  {
   "cell_type": "code",
   "execution_count": null,
   "metadata": {},
   "outputs": [],
   "source": []
  },
  {
   "cell_type": "code",
   "execution_count": null,
   "metadata": {},
   "outputs": [],
   "source": []
  },
  {
   "cell_type": "code",
   "execution_count": null,
   "metadata": {},
   "outputs": [],
   "source": []
  }
 ],
 "metadata": {
  "kernelspec": {
   "display_name": "Python 3",
   "language": "python",
   "name": "python3"
  },
  "language_info": {
   "codemirror_mode": {
    "name": "ipython",
    "version": 3
   },
   "file_extension": ".py",
   "mimetype": "text/x-python",
   "name": "python",
   "nbconvert_exporter": "python",
   "pygments_lexer": "ipython3",
   "version": "3.6.8"
  }
 },
 "nbformat": 4,
 "nbformat_minor": 2
}
