{
 "cells": [
  {
   "cell_type": "code",
   "execution_count": null,
   "metadata": {},
   "outputs": [],
   "source": [
    "\n",
    "\n",
    "points = [\n",
    "    (20, 100),\n",
    "    (60, 110),\n",
    "    (55 100),\n",
    "    (63, 130),\n",
    "    (16, 104),\n",
    "    (67, 150),\n",
    "    (66, 92),\n",
    "    (147, 84),\n",
    "    (156, 30),\n",
    "    (164, 91)]"
   ]
  }
 ],
 "metadata": {
  "kernelspec": {
   "display_name": "Python (op)",
   "language": "python",
   "name": "op"
  },
  "language_info": {
   "codemirror_mode": {
    "name": "ipython",
    "version": 3
   },
   "file_extension": ".py",
   "mimetype": "text/x-python",
   "name": "python",
   "nbconvert_exporter": "python",
   "pygments_lexer": "ipython3",
   "version": "3.6.7"
  }
 },
 "nbformat": 4,
 "nbformat_minor": 2
}
