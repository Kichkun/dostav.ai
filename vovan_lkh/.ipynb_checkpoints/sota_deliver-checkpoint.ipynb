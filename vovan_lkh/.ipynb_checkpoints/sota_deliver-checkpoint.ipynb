{
 "cells": [
  {
   "cell_type": "code",
   "execution_count": 16,
   "metadata": {},
   "outputs": [],
   "source": [
    "import json\n",
    "import matplotlib.pyplot as plt\n",
    "import numpy as np\n",
    "\n",
    "DATA_PATH = 'workdir/data/contest_input.json'\n",
    "\n",
    "json_file = json.load(open(DATA_PATH, 'r'))"
   ]
  },
  {
   "cell_type": "code",
   "execution_count": 49,
   "metadata": {},
   "outputs": [],
   "source": [
    "orders = json_file['orders']\n",
    "orders_pickup_times_0 = np.array([(order['pickup_from'], order['pickup_to']) for order in orders])\n",
    "orders_pickup_times = np.array([((10 * (order['pickup_from'] // 10)), (10 * (order['pickup_to'] // 10))) for order in orders])\n",
    "orders_drop_times = np.array([((10 * (order['dropoff_from'] // 10)), (10 * (order['dropoff_to'] // 10))) for order in orders])\n",
    "orders_from = np.array([(order['pickup_location_x'], order['pickup_location_y']) for order in orders])\n",
    "orders_to = np.array([(order['dropoff_location_x'], order['dropoff_location_y']) for order in orders])"
   ]
  },
  {
   "cell_type": "code",
   "execution_count": 60,
   "metadata": {},
   "outputs": [],
   "source": [
    "all_points = np.vstack([orders_from, orders_to])\n"
   ]
  },
  {
   "cell_type": "code",
   "execution_count": 63,
   "metadata": {},
   "outputs": [],
   "source": [
    "points_available = np.zeros((all_points.shape[0], 100))\n",
    "cnt = 0\n",
    "for orders_pickup_times:\n",
    "    "
   ]
  },
  {
   "cell_type": "code",
   "execution_count": 64,
   "metadata": {},
   "outputs": [
    {
     "data": {
      "text/plain": [
       "array([[0., 0., 0., ..., 0., 0., 0.],\n",
       "       [0., 0., 0., ..., 0., 0., 0.],\n",
       "       [0., 0., 0., ..., 0., 0., 0.],\n",
       "       ...,\n",
       "       [0., 0., 0., ..., 0., 0., 0.],\n",
       "       [0., 0., 0., ..., 0., 0., 0.],\n",
       "       [0., 0., 0., ..., 0., 0., 0.]])"
      ]
     },
     "execution_count": 64,
     "metadata": {},
     "output_type": "execute_result"
    }
   ],
   "source": [
    "points_available"
   ]
  },
  {
   "cell_type": "code",
   "execution_count": 57,
   "metadata": {},
   "outputs": [
    {
     "data": {
      "text/plain": [
       "(array([ 36., 105., 102., 105., 110., 117., 111.,  81., 145., 114., 109.,\n",
       "        139., 137., 141., 116., 172., 168., 110., 184., 163., 177., 146.,\n",
       "        146., 166., 117., 134., 138., 160., 132., 166., 154., 149., 113.,\n",
       "        154., 145.,  97., 143., 118., 133.,  95., 122., 114.,  76., 109.,\n",
       "         93., 103.,  77.,  85.,  86.,  57.,  78.,  87.,  67.,  50.,  59.,\n",
       "         53.,  52.,  45.,  58.,  49.,  46.,  42.,  37.,  38.,  36.,  18.,\n",
       "         28.,  18.,  17.,  23.,  16.,  17.,  22.,  17.,  13.,  15.,  11.,\n",
       "         10.,  16.,  10.,   7.,   9.,   3.,   8.,  16.,   3.,   7.,   6.,\n",
       "          5.,   3.,   3.,   2.,   1.,   2.,   2.,   2.,   3.,   1.,   0.,\n",
       "          2.]),\n",
       " array([  0.  ,   4.72,   9.44,  14.16,  18.88,  23.6 ,  28.32,  33.04,\n",
       "         37.76,  42.48,  47.2 ,  51.92,  56.64,  61.36,  66.08,  70.8 ,\n",
       "         75.52,  80.24,  84.96,  89.68,  94.4 ,  99.12, 103.84, 108.56,\n",
       "        113.28, 118.  , 122.72, 127.44, 132.16, 136.88, 141.6 , 146.32,\n",
       "        151.04, 155.76, 160.48, 165.2 , 169.92, 174.64, 179.36, 184.08,\n",
       "        188.8 , 193.52, 198.24, 202.96, 207.68, 212.4 , 217.12, 221.84,\n",
       "        226.56, 231.28, 236.  , 240.72, 245.44, 250.16, 254.88, 259.6 ,\n",
       "        264.32, 269.04, 273.76, 278.48, 283.2 , 287.92, 292.64, 297.36,\n",
       "        302.08, 306.8 , 311.52, 316.24, 320.96, 325.68, 330.4 , 335.12,\n",
       "        339.84, 344.56, 349.28, 354.  , 358.72, 363.44, 368.16, 372.88,\n",
       "        377.6 , 382.32, 387.04, 391.76, 396.48, 401.2 , 405.92, 410.64,\n",
       "        415.36, 420.08, 424.8 , 429.52, 434.24, 438.96, 443.68, 448.4 ,\n",
       "        453.12, 457.84, 462.56, 467.28, 472.  ]),\n",
       " <a list of 100 Patch objects>)"
      ]
     },
     "execution_count": 57,
     "metadata": {},
     "output_type": "execute_result"
    },
    {
     "data": {
      "image/png": "[encoded data removed]",
      "text/plain": [
       "<Figure size 432x288 with 1 Axes>"
      ]
     },
     "metadata": {
      "needs_background": "light"
     },
     "output_type": "display_data"
    }
   ],
   "source": [
    "plt.hist(np.abs(orders_from - orders_to).sum(axis=1), 100)"
   ]
  },
  {
   "cell_type": "code",
   "execution_count": null,
   "metadata": {},
   "outputs": [],
   "source": []
  },
  {
   "cell_type": "code",
   "execution_count": 43,
   "metadata": {},
   "outputs": [
    {
     "data": {
      "text/plain": [
       "array([[ 600,  960],\n",
       "       [ 630,  660],\n",
       "       [1050, 1080],\n",
       "       ...,\n",
       "       [1100, 1200],\n",
       "       [1170, 1200],\n",
       "       [1200, 1230]])"
      ]
     },
     "execution_count": 43,
     "metadata": {},
     "output_type": "execute_result"
    }
   ],
   "source": [
    "orders_drop_times"
   ]
  },
  {
   "cell_type": "code",
   "execution_count": 35,
   "metadata": {},
   "outputs": [
    {
     "data": {
      "text/plain": [
       "array([  30,   90,  270,  300,  330,  340,  360,  390,  420,  440,  450,\n",
       "        470,  480,  490,  500,  510,  520,  540,  550,  560,  570,  580,\n",
       "        590,  600,  610,  630,  640,  650,  660,  680,  690,  700,  710,\n",
       "        720,  730,  740,  750,  760,  770,  780,  790,  800,  810,  820,\n",
       "        830,  840,  850,  860,  870,  880,  890,  900,  920,  930,  940,\n",
       "        950,  960,  970,  980,  990, 1000, 1010, 1020, 1030, 1040, 1050,\n",
       "       1070, 1080, 1100, 1110, 1120, 1140, 1170, 1190, 1200, 1230])"
      ]
     },
     "execution_count": 35,
     "metadata": {},
     "output_type": "execute_result"
    }
   ],
   "source": [
    "np.unique(orders_pickup_times[:, 1])"
   ]
  },
  {
   "cell_type": "code",
   "execution_count": 45,
   "metadata": {},
   "outputs": [
    {
     "data": {
      "image/png": "[encoded data removed]",
      "text/plain": [
       "<Figure size 432x288 with 1 Axes>"
      ]
     },
     "metadata": {
      "needs_background": "light"
     },
     "output_type": "display_data"
    }
   ],
   "source": [
    "plt.hist(orders_pickup_times[:, 0])\n",
    "plt.show()"
   ]
  },
  {
   "cell_type": "code",
   "execution_count": 46,
   "metadata": {},
   "outputs": [
    {
     "data": {
      "image/png": "[encoded data removed]",
      "text/plain": [
       "<Figure size 432x288 with 1 Axes>"
      ]
     },
     "metadata": {
      "needs_background": "light"
     },
     "output_type": "display_data"
    }
   ],
   "source": [
    "plt.hist(orders_pickup_times[:, 1])\n",
    "plt.show()"
   ]
  },
  {
   "cell_type": "code",
   "execution_count": 47,
   "metadata": {},
   "outputs": [
    {
     "data": {
      "image/png": "[encoded data removed]",
      "text/plain": [
       "<Figure size 432x288 with 1 Axes>"
      ]
     },
     "metadata": {
      "needs_background": "light"
     },
     "output_type": "display_data"
    }
   ],
   "source": [
    "plt.hist(orders_drop_times[:, 0])\n",
    "plt.show()"
   ]
  },
  {
   "cell_type": "code",
   "execution_count": 48,
   "metadata": {},
   "outputs": [
    {
     "data": {
      "image/png": "[encoded data removed]",
      "text/plain": [
       "<Figure size 432x288 with 1 Axes>"
      ]
     },
     "metadata": {
      "needs_background": "light"
     },
     "output_type": "display_data"
    }
   ],
   "source": [
    "plt.hist(orders_drop_times[:, 1])\n",
    "plt.show()"
   ]
  },
  {
   "cell_type": "code",
   "execution_count": null,
   "metadata": {},
   "outputs": [],
   "source": []
  }
 ],
 "metadata": {
  "kernelspec": {
   "display_name": "Python (op)",
   "language": "python",
   "name": "op"
  },
  "language_info": {
   "codemirror_mode": {
    "name": "ipython",
    "version": 3
   },
   "file_extension": ".py",
   "mimetype": "text/x-python",
   "name": "python",
   "nbconvert_exporter": "python",
   "pygments_lexer": "ipython3",
   "version": "3.6.7"
  }
 },
 "nbformat": 4,
 "nbformat_minor": 2
}
