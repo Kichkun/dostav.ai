{
 "cells": [
  {
   "cell_type": "code",
   "execution_count": 7,
   "metadata": {},
   "outputs": [],
   "source": [
    "import json\n",
    "import matplotlib.pyplot as plt\n",
    "import numpy as np\n",
    "\n",
    "DATA_PATH = 'workdir/data/contest_input.json'\n",
    "\n",
    "json_file = json.load(open(DATA_PATH, 'r'))"
   ]
  },
  {
   "cell_type": "code",
   "execution_count": 8,
   "metadata": {},
   "outputs": [],
   "source": [
    "couriers = json_file['couriers']"
   ]
  },
  {
   "cell_type": "code",
   "execution_count": 10,
   "metadata": {},
   "outputs": [],
   "source": [
    "orders = json_file['orders']\n",
    "orders_pickup_times_0 = np.array([(order['pickup_from'], order['pickup_to']) for order in orders])\n",
    "orders_pickup_times = np.array([(((order['pickup_from'])), ((order['pickup_to']))) for order in orders])\n",
    "orders_drop_times = np.array([(((order['dropoff_from'])), ((order['dropoff_to']))) for order in orders])\n",
    "orders_from = np.array([(order['pickup_location_x'], order['pickup_location_y']) for order in orders])\n",
    "orders_to = np.array([(order['dropoff_location_x'], order['dropoff_location_y']) for order in orders])\n",
    "payments = np.array([(order['payment']) for order in orders])\n",
    "\n",
    "delivery_dists = np.abs(orders_to - orders_from).sum(axis=1)"
   ]
  },
  {
   "cell_type": "code",
   "execution_count": 11,
   "metadata": {},
   "outputs": [],
   "source": [
    "ord_from = [(a, b) for a, b in orders_from]\n",
    "ord_to = [(a, b) for a, b in orders_to]"
   ]
  },
  {
   "cell_type": "code",
   "execution_count": 25,
   "metadata": {},
   "outputs": [],
   "source": [
    "def manhattan_from(pos):\n",
    "    return np.abs(orders_from - pos).sum(axis=1)"
   ]
  },
  {
   "cell_type": "code",
   "execution_count": 26,
   "metadata": {},
   "outputs": [],
   "source": [
    "def calc_rub_dist(pos):\n",
    "    dists_total = manhattan_from(pos) + delivery_dists\n",
    "    rub_coeff = payments / dists_total\n",
    "    \n",
    "    return rub_coeff"
   ]
  },
  {
   "cell_type": "code",
   "execution_count": 61,
   "metadata": {},
   "outputs": [],
   "source": [
    "def plot_moves(pos, cur_ids):\n",
    "    from_points = orders_from[cur_ids]\n",
    "    to_points = orders_from[cur_ids]\n",
    "\n",
    "    plt.plot([pos[0]], [pos[1]], '*')\n",
    "    plt.plot(from_points[:, 0], from_points[:, 1], '.', color='red')\n",
    "    plt.plot(to_points[:, 0], to_points[:, 1], '.', color='blue')  "
   ]
  },
  {
   "cell_type": "code",
   "execution_count": 228,
   "metadata": {},
   "outputs": [],
   "source": [
    "def manhattan(vector, point):\n",
    "    return np.abs((vector - point)).sum(axis=1)\n",
    "\n",
    "class Courier:\n",
    "    def __init__(self, pos, time, orders_avaialble):\n",
    "        self.pos = pos\n",
    "        self.pickups = set()\n",
    "        self.time = time\n",
    "        \n",
    "        self.orders_available = orders_avaialble\n",
    "        \n",
    "        self.reward = 0\n",
    "        \n",
    "    def get_step(self, n_steps):\n",
    "        dists = manhattan(orders_from, self.pos)\n",
    "        dists_to = delivery_dists\n",
    "        time_to_arrive = self.time + dists\n",
    "        \n",
    "        can_arrive = time_to_arrive < orders_pickup_times[:, 1]\n",
    "        can_arrive_before = (time_to_arrive + 30) > orders_pickup_times[:, 0]\n",
    "\n",
    "        can_deliever = time_to_arrive + delivery_dists < orders_drop_times[:, 1]\n",
    "        \n",
    "        available = can_arrive * can_arrive_before * can_deliever * (self.orders_available == 1)\n",
    "        \n",
    "        if np.all(available == False):\n",
    "            return []\n",
    "        \n",
    "        rub_dists = calc_rub_dist(self.pos)\n",
    "        rubers = available * rub_dists + -1 * (1 - available)\n",
    "        \n",
    "        rub_argsorted = np.argsort(rubers)\n",
    "        result = rub_argsorted[::-1][:n_steps]\n",
    "        return result\n",
    "    \n",
    "    def move(self, order, target):\n",
    "        if target == 'pickup':\n",
    "            pos = orders_from[order]\n",
    "        else:\n",
    "            pos = orders_to[order]\n",
    "        \n",
    "        time = np.abs(self.pos - pos).sum()\n",
    "        \n",
    "        self.time += time\n",
    "        self.pos = pos\n",
    "        \n",
    "        self.orders_available[order] = 0\n",
    "        \n",
    "        if target == 'pickup':\n",
    "            if self.time > orders_pickup_times[order, 1]:\n",
    "                self.reward = -10000000000\n",
    "                return\n",
    "                \n",
    "            if self.time > orders_pickup_times[order, 0] and self.time < orders_pickup_times[order, 1]:\n",
    "                self.pickups.add(order)\n",
    "                self.time += 10\n",
    "                return\n",
    "                \n",
    "            if self.time < orders_pickup_times[order, 0]:\n",
    "                self.time = orders_pickup_times[order, 0] + 10\n",
    "                self.pickups.add(order)\n",
    "                return\n",
    "            \n",
    "        if target == 'dropoff':\n",
    "            print(order, self.time, orders_drop_times[order, 1])\n",
    "            if self.time > orders_drop_times[order, 1]:\n",
    "                self.reward = -10000000000\n",
    "                print('why?')\n",
    "                return\n",
    "            \n",
    "            if self.time > orders_drop_times[order, 0] and self.time < orders_drop_times[order, 1]:\n",
    "                self.pickups.remove(order)\n",
    "                self.reward += orders[order]['payment']\n",
    "                self.time += 10\n",
    "                return\n",
    "                \n",
    "            if self.time < orders_drop_times[order, 0]:\n",
    "                self.time = orders_drop_times[order, 0] + 10\n",
    "                self.pickups.remove(order)\n",
    "                self.reward += orders[order]['payment']\n",
    "                return\n",
    "            \n",
    "    def show(self):\n",
    "        print(self.time, self.pos, self.reward, self.pickups)\n",
    "        \n",
    "    def possible_moves(self, steps):\n",
    "        possible_moves = [(i, 'pickup') for i in steps]\n",
    "        possible_moves += [(i, 'dropoff') for i in self.pickups]\n",
    "        \n",
    "        return possible_moves"
   ]
  },
  {
   "cell_type": "code",
   "execution_count": 229,
   "metadata": {},
   "outputs": [
    {
     "data": {
      "text/plain": [
       "array([[284, 235],\n",
       "       [244, 262],\n",
       "       [225, 141],\n",
       "       ...,\n",
       "       [162, 163],\n",
       "       [233, 108],\n",
       "       [243, 115]])"
      ]
     },
     "execution_count": 229,
     "metadata": {},
     "output_type": "execute_result"
    }
   ],
   "source": [
    "orders_from"
   ]
  },
  {
   "cell_type": "code",
   "execution_count": 230,
   "metadata": {},
   "outputs": [],
   "source": [
    "from copy import deepcopy"
   ]
  },
  {
   "cell_type": "code",
   "execution_count": 231,
   "metadata": {},
   "outputs": [
    {
     "name": "stdout",
     "output_type": "stream",
     "text": [
      "5747 679 960\n",
      "6793 609 953\n",
      "7113 759 1030\n",
      "4991 564 765\n",
      "7009 688 1005\n",
      "7227 595 1107\n"
     ]
    }
   ],
   "source": [
    "all_couriers = []\n",
    "\n",
    "c0 = Courier(np.array((128, 128)), 360, np.ones(len(orders), dtype=int))\n",
    "steps0 = c0.get_step(6)\n",
    "for move_id, move_type in c0.possible_moves(steps0):\n",
    "    c1 = deepcopy(c0)\n",
    "    c1.move(move_id, move_type)\n",
    "    \n",
    "    steps1 = c1.get_step(6)\n",
    "    for move_id1, move_type1 in c1.possible_moves(steps1):\n",
    "        c1.move(move_id1, move_type1)\n",
    "        \n",
    "        all_couriers.append((move_id, move_id1, c1.reward, c1.time))"
   ]
  },
  {
   "cell_type": "code",
   "execution_count": 233,
   "metadata": {},
   "outputs": [
    {
     "data": {
      "text/plain": [
       "[(5747, 289, 0, 398),\n",
       " (5747, 523, 0, 414),\n",
       " (5747, 7113, 0, 451),\n",
       " (5747, 7009, 0, 461),\n",
       " (5747, 6808, 0, 533),\n",
       " (5747, 6793, 0, 618),\n",
       " (5747, 5747, 541, 940),\n",
       " (6793, 4802, 0, 423),\n",
       " (6793, 7227, 0, 448),\n",
       " (6793, 7085, 0, 474),\n",
       " (6793, 4991, 0, 484),\n",
       " (6793, 6075, 0, 508),\n",
       " (6793, 5747, 0, 562),\n",
       " (6793, 6793, 600, 873),\n",
       " (7113, 7009, 0, 430),\n",
       " (7113, 7149, 0, 467),\n",
       " (7113, 5747, 0, 537),\n",
       " (7113, 2192, 0, 570),\n",
       " (7113, 5225, 0, 644),\n",
       " (7113, 7234, 0, 694),\n",
       " (7113, 7113, 650, 950),\n",
       " (4991, 7085, 0, 430),\n",
       " (4991, 6793, 0, 456),\n",
       " (4991, 7227, 0, 474),\n",
       " (4991, 4802, 0, 499),\n",
       " (4991, 1473, -10000000000, 547),\n",
       " (4991, 1654, -10000000000, 557),\n",
       " (4991, 4991, -9999999375, 685),\n",
       " (7009, 7113, 0, 440),\n",
       " (7009, 7149, 0, 477),\n",
       " (7009, 2260, 0, 496),\n",
       " (7009, 5747, 0, 566),\n",
       " (7009, 2192, -10000000000, 589),\n",
       " (7009, 5225, -10000000000, 663),\n",
       " (7009, 7009, -9999999375, 925),\n",
       " (7227, 6793, 0, 416),\n",
       " (7227, 4802, 0, 433),\n",
       " (7227, 7085, 0, 466),\n",
       " (7227, 4991, 0, 476),\n",
       " (7227, 6075, 0, 500),\n",
       " (7227, 5747, 0, 554),\n",
       " (7227, 7227, 429, 1027)]"
      ]
     },
     "execution_count": 233,
     "metadata": {},
     "output_type": "execute_result"
    }
   ],
   "source": [
    "all_couriers"
   ]
  },
  {
   "cell_type": "code",
   "execution_count": null,
   "metadata": {},
   "outputs": [],
   "source": [
    "orders[]"
   ]
  },
  {
   "cell_type": "code",
   "execution_count": 210,
   "metadata": {
    "scrolled": true
   },
   "outputs": [
    {
     "data": {
      "text/plain": [
       "[(5747, 289, 0, 398),\n",
       " (5747, 523, 0, 414),\n",
       " (5747, 7113, 0, 451),\n",
       " (5747, 7009, 0, 461),\n",
       " (5747, 6808, 0, 533),\n",
       " (5747, 6793, 0, 618),\n",
       " (5747, 5747, 541, 940),\n",
       " (6793, 4802, 0, 423),\n",
       " (6793, 7227, 0, 448),\n",
       " (6793, 7085, 0, 474),\n",
       " (6793, 4991, 0, 484),\n",
       " (6793, 6075, 0, 508),\n",
       " (6793, 5747, 0, 562),\n",
       " (6793, 6793, 600, 873),\n",
       " (7113, 7009, 0, 430),\n",
       " (7113, 7149, 0, 467),\n",
       " (7113, 5747, 0, 537),\n",
       " (7113, 2192, 0, 570),\n",
       " (7113, 5225, 0, 644),\n",
       " (7113, 7234, 0, 694),\n",
       " (7113, 7113, 650, 950),\n",
       " (4991, 7085, 0, 430),\n",
       " (4991, 6793, 0, 456),\n",
       " (4991, 7227, 0, 474),\n",
       " (4991, 4802, 0, 499),\n",
       " (4991, 1473, -10000000000, 547),\n",
       " (4991, 1654, -10000000000, 557),\n",
       " (4991, 4991, -9999999375, 685),\n",
       " (7009, 7113, 0, 440),\n",
       " (7009, 7149, 0, 477),\n",
       " (7009, 2260, 0, 496),\n",
       " (7009, 5747, 0, 566),\n",
       " (7009, 2192, -10000000000, 589),\n",
       " (7009, 5225, -10000000000, 663),\n",
       " (7009, 7009, -9999999375, 925),\n",
       " (7227, 6793, 0, 416),\n",
       " (7227, 4802, 0, 433),\n",
       " (7227, 7085, 0, 466),\n",
       " (7227, 4991, 0, 476),\n",
       " (7227, 6075, 0, 500),\n",
       " (7227, 5747, 0, 554),\n",
       " (7227, 7227, 429, 1027)]"
      ]
     },
     "execution_count": 210,
     "metadata": {},
     "output_type": "execute_result"
    }
   ],
   "source": [
    "all_couriers"
   ]
  },
  {
   "cell_type": "code",
   "execution_count": null,
   "metadata": {},
   "outputs": [],
   "source": [
    "def courier_sym(pos):\n",
    "    c = Courier(pos, 360, np.ones(len(orders), dtype=int))\n",
    "    \n",
    "    "
   ]
  },
  {
   "cell_type": "code",
   "execution_count": 160,
   "metadata": {},
   "outputs": [
    {
     "data": {
      "image/png": "[encoded data removed]",
      "text/plain": [
       "<Figure size 432x288 with 1 Axes>"
      ]
     },
     "metadata": {
      "needs_background": "light"
     },
     "output_type": "display_data"
    }
   ],
   "source": [
    "plot_moves(c.pos, c.get_step(6))"
   ]
  },
  {
   "cell_type": "code",
   "execution_count": 161,
   "metadata": {},
   "outputs": [],
   "source": [
    "c.move(5747, 'pickup', )"
   ]
  },
  {
   "cell_type": "code",
   "execution_count": 162,
   "metadata": {},
   "outputs": [
    {
     "data": {
      "image/png": "[encoded data removed]",
      "text/plain": [
       "<Figure size 432x288 with 1 Axes>"
      ]
     },
     "metadata": {
      "needs_background": "light"
     },
     "output_type": "display_data"
    }
   ],
   "source": [
    "plot_moves(c.pos, c.get_step(6))"
   ]
  },
  {
   "cell_type": "code",
   "execution_count": 51,
   "metadata": {},
   "outputs": [],
   "source": [
    "c.move(2192, 'pickup')"
   ]
  },
  {
   "cell_type": "code",
   "execution_count": 52,
   "metadata": {},
   "outputs": [
    {
     "name": "stdout",
     "output_type": "stream",
     "text": [
      "371 [129 118] 0 {2192}\n"
     ]
    }
   ],
   "source": [
    "c.show()"
   ]
  },
  {
   "cell_type": "code",
   "execution_count": 1046,
   "metadata": {},
   "outputs": [],
   "source": [
    "def plot_moves(x, y, cur_ids):\n",
    "    from_points = orders_from[cur_ids]\n",
    "    to_points = orders_from[cur_ids]\n",
    "\n",
    "    plt.plot([x], [y], '*')\n",
    "    plt.plot(from_points[:, 0], from_points[:, 1], '.', color='red')\n",
    "#    plt.plot(to_points[:, 0], to_points[:, 1], '.', color='blue')  "
   ]
  },
  {
   "cell_type": "code",
   "execution_count": 1047,
   "metadata": {},
   "outputs": [],
   "source": [
    "def from_point_xy(i):\n",
    "    return orders_from[i]\n",
    "\n",
    "def to_point_xy(i):\n",
    "    return orders_to[i]"
   ]
  },
  {
   "cell_type": "code",
   "execution_count": 1048,
   "metadata": {},
   "outputs": [],
   "source": [
    "def single_step(x, y, used, cur_time=360, R=120, n_orders=8):\n",
    "    dists = manhattan(orders_from, (x, y))\n",
    "    dists_to = delivery_dists\n",
    "    \n",
    "    time_to_arrive = cur_time + dists + 10\n",
    "    \n",
    "    can_arrive = time_to_arrive < orders_pickup_times[:, 1]\n",
    "    can_arrive_before = time_to_arrive + 10 > orders_pickup_times[:, 0]\n",
    "    \n",
    "    can_deliever = time_to_arrive + delivery_dists < orders_drop_times[:, 1]\n",
    "    \n",
    "    can_arrive_2 = can_arrive * can_arrive_before * can_deliever\n",
    "    \n",
    "    if np.all(can_arrive == False):\n",
    "        return []\n",
    "    \n",
    "    near_dists = can_arrive_2 * dists + 1000000 * (1 - can_arrive)\n",
    "    \n",
    "    if np.all(near_dists == 1000000):\n",
    "        return []\n",
    "    \n",
    "    pts = np.argsort(near_dists)[:n_orders]\n",
    "\n",
    "    return pts"
   ]
  },
  {
   "cell_type": "code",
   "execution_count": 3,
   "metadata": {},
   "outputs": [],
   "source": [
    "def manhattan(vector, point):\n",
    "    return np.abs((vector - point)).sum(axis=1)\n",
    "\n",
    "def courier_moves(x, y, cur_time, cur_step=0, used=None, max_step=15, n_vals=10):\n",
    "    if cur_step > max_step:\n",
    "        return np.zeros(0)\n",
    "\n",
    "    current_to_use = single_step(x, y, used, cur_time, n_orders=n_vals)\n",
    "    resulted_ids = list(current_to_use.copy())\n",
    "    for cur_order in current_to_use:\n",
    "        if used[cur_order] == 1:\n",
    "            continue\n",
    "        else:\n",
    "            used[cur_order] = 1\n",
    "            cur_x_f = orders_from[cur_order, 0]\n",
    "            cur_y_f = orders_from[cur_order, 1]\n",
    "            \n",
    "            cur_x = orders_to[cur_order, 0]\n",
    "            cur_y = orders_to[cur_order, 1]\n",
    "            dist_manh = abs(cur_x - x) + abs(cur_y - y) #+ abs(cur_x_f - x) + abs(cur_y_f - y)\n",
    "            \n",
    "            resulted_ids = list(resulted_ids) + list(courier_moves(cur_x, cur_y, cur_time + dist_manh, cur_step + 1, used, max_step, max(1, n_vals // 2)))\n",
    "\n",
    "    return resulted_ids"
   ]
  },
  {
   "cell_type": "code",
   "execution_count": 4,
   "metadata": {},
   "outputs": [
    {
     "ename": "NameError",
     "evalue": "name 'couriers' is not defined",
     "output_type": "error",
     "traceback": [
      "\u001b[0;31m---------------------------------------------------------------------------\u001b[0m",
      "\u001b[0;31mNameError\u001b[0m                                 Traceback (most recent call last)",
      "\u001b[0;32m<ipython-input-4-7569d9d5cbb4>\u001b[0m in \u001b[0;36m<module>\u001b[0;34m\u001b[0m\n\u001b[1;32m      1\u001b[0m \u001b[0mresults\u001b[0m \u001b[0;34m=\u001b[0m \u001b[0;34m[\u001b[0m\u001b[0;34m]\u001b[0m\u001b[0;34m\u001b[0m\u001b[0;34m\u001b[0m\u001b[0m\n\u001b[1;32m      2\u001b[0m \u001b[0;34m\u001b[0m\u001b[0m\n\u001b[0;32m----> 3\u001b[0;31m \u001b[0;32mfor\u001b[0m \u001b[0mcour\u001b[0m \u001b[0;32min\u001b[0m \u001b[0mcouriers\u001b[0m\u001b[0;34m:\u001b[0m\u001b[0;34m\u001b[0m\u001b[0;34m\u001b[0m\u001b[0m\n\u001b[0m\u001b[1;32m      4\u001b[0m     \u001b[0mcou_x\u001b[0m \u001b[0;34m=\u001b[0m \u001b[0mcour\u001b[0m\u001b[0;34m[\u001b[0m\u001b[0;34m'location_x'\u001b[0m\u001b[0;34m]\u001b[0m\u001b[0;34m\u001b[0m\u001b[0;34m\u001b[0m\u001b[0m\n\u001b[1;32m      5\u001b[0m     \u001b[0mcou_y\u001b[0m \u001b[0;34m=\u001b[0m \u001b[0mcour\u001b[0m\u001b[0;34m[\u001b[0m\u001b[0;34m'location_y'\u001b[0m\u001b[0;34m]\u001b[0m\u001b[0;34m\u001b[0m\u001b[0;34m\u001b[0m\u001b[0m\n",
      "\u001b[0;31mNameError\u001b[0m: name 'couriers' is not defined"
     ]
    }
   ],
   "source": [
    "results = []\n",
    "\n",
    "for cour in couriers:\n",
    "    cou_x = cour['location_x']\n",
    "    cou_y = cour['location_y']\n",
    "    \n",
    "    is_used = np.zeros(len(orders))\n",
    "    cour = courier_moves(cou_x, cou_y, 360, used=is_used)\n",
    "    results.append((cou_x, cou_y, cour))\n",
    "    \n",
    "    break"
   ]
  },
  {
   "cell_type": "code",
   "execution_count": 5,
   "metadata": {},
   "outputs": [
    {
     "ename": "NameError",
     "evalue": "name 'cour' is not defined",
     "output_type": "error",
     "traceback": [
      "\u001b[0;31m---------------------------------------------------------------------------\u001b[0m",
      "\u001b[0;31mNameError\u001b[0m                                 Traceback (most recent call last)",
      "\u001b[0;32m<ipython-input-5-49f8e6581f7d>\u001b[0m in \u001b[0;36m<module>\u001b[0;34m\u001b[0m\n\u001b[0;32m----> 1\u001b[0;31m \u001b[0mlen\u001b[0m\u001b[0;34m(\u001b[0m\u001b[0mset\u001b[0m\u001b[0;34m(\u001b[0m\u001b[0mcour\u001b[0m\u001b[0;34m)\u001b[0m\u001b[0;34m)\u001b[0m\u001b[0;34m\u001b[0m\u001b[0;34m\u001b[0m\u001b[0m\n\u001b[0m",
      "\u001b[0;31mNameError\u001b[0m: name 'cour' is not defined"
     ]
    }
   ],
   "source": [
    "len(set(cour))"
   ]
  },
  {
   "cell_type": "code",
   "execution_count": 6,
   "metadata": {},
   "outputs": [],
   "source": [
    "inters = []\n",
    "\n",
    "for _, _, i in results:\n",
    "    for _, _, j in results:\n",
    "        inters.append(len(set(i).intersection(j)))"
   ]
  },
  {
   "cell_type": "code",
   "execution_count": 1,
   "metadata": {},
   "outputs": [],
   "source": [
    "def use_extra_orders(x, y, order_id):\n",
    "    from_x, from_y = orders_from[order_id]\n",
    "    to_x, to_y = orders_to[order_id]\n",
    "    \n",
    "    from_dist = abs(from_x - x) + abs(from_y - y)\n",
    "    to_dist = abs(from_x - to_x) + abs(from_y - to_y)\n",
    "    can_pick = (360 + from_dist) < orders_pickup_times[order_id, 1]\n",
    "        \n",
    "    drop_time = 360 + max(from_dist, orders_pickup_times[order_id, 0]) + 10 + to_dist\n",
    "    can_drop = drop_time < orders_drop_times[order_id, 1]\n",
    "    \n",
    "    return can_drop and can_pick"
   ]
  },
  {
   "cell_type": "code",
   "execution_count": 2,
   "metadata": {},
   "outputs": [
    {
     "ename": "NameError",
     "evalue": "name 'results' is not defined",
     "output_type": "error",
     "traceback": [
      "\u001b[0;31m---------------------------------------------------------------------------\u001b[0m",
      "\u001b[0;31mNameError\u001b[0m                                 Traceback (most recent call last)",
      "\u001b[0;32m<ipython-input-2-a2c4bc814829>\u001b[0m in \u001b[0;36m<module>\u001b[0;34m\u001b[0m\n\u001b[0;32m----> 1\u001b[0;31m \u001b[0;32mfor\u001b[0m \u001b[0mi\u001b[0m\u001b[0;34m,\u001b[0m \u001b[0maaa\u001b[0m \u001b[0;32min\u001b[0m \u001b[0menumerate\u001b[0m\u001b[0;34m(\u001b[0m\u001b[0mresults\u001b[0m\u001b[0;34m)\u001b[0m\u001b[0;34m:\u001b[0m\u001b[0;34m\u001b[0m\u001b[0;34m\u001b[0m\u001b[0m\n\u001b[0m\u001b[1;32m      2\u001b[0m     \u001b[0m_\u001b[0m\u001b[0;34m,\u001b[0m \u001b[0m_\u001b[0m\u001b[0;34m,\u001b[0m \u001b[0mcour\u001b[0m \u001b[0;34m=\u001b[0m \u001b[0maaa\u001b[0m\u001b[0;34m\u001b[0m\u001b[0;34m\u001b[0m\u001b[0m\n\u001b[1;32m      3\u001b[0m     \u001b[0mcourier\u001b[0m \u001b[0;34m=\u001b[0m \u001b[0mcouriers\u001b[0m\u001b[0;34m[\u001b[0m\u001b[0mi\u001b[0m\u001b[0;34m]\u001b[0m\u001b[0;34m\u001b[0m\u001b[0;34m\u001b[0m\u001b[0m\n\u001b[1;32m      4\u001b[0m \u001b[0;34m\u001b[0m\u001b[0m\n\u001b[1;32m      5\u001b[0m     \u001b[0mcour_x\u001b[0m \u001b[0;34m=\u001b[0m \u001b[0mcourier\u001b[0m\u001b[0;34m[\u001b[0m\u001b[0;34m'location_x'\u001b[0m\u001b[0;34m]\u001b[0m\u001b[0;34m\u001b[0m\u001b[0;34m\u001b[0m\u001b[0m\n",
      "\u001b[0;31mNameError\u001b[0m: name 'results' is not defined"
     ]
    }
   ],
   "source": [
    "for i, aaa in enumerate(results):\n",
    "    _, _, cour = aaa\n",
    "    courier = couriers[i]\n",
    "    \n",
    "    cour_x = courier['location_x']\n",
    "    cour_y = courier['location_y']\n",
    "    cr = list(set(cour))\n",
    "    new_cr = [cr_val for cr_val in cr if use_extra_orders(cour_x, cour_y, cr_val)]\n",
    "    \n",
    "    print(len(cr), len(new_cr))\n",
    "    \n",
    "    \n",
    "    ords = np.array(list(orders.values()))[list(set(cour))]\n",
    "\n",
    "    o = open(f'outs/{i}.json', 'w')\n",
    "    \n",
    "    result_json = {'orders': ords.tolist(), 'couriers': [courier]}\n",
    "    \n",
    "    json.dump(result_json, o)\n",
    "    \n",
    "    o.close()\n",
    "    \n",
    "    break"
   ]
  },
  {
   "cell_type": "code",
   "execution_count": 1068,
   "metadata": {},
   "outputs": [
    {
     "data": {
      "text/plain": [
       "{'courier_id': 1, 'location_x': 111, 'location_y': 5}"
      ]
     },
     "execution_count": 1068,
     "metadata": {},
     "output_type": "execute_result"
    }
   ],
   "source": [
    "couriers[0]"
   ]
  },
  {
   "cell_type": "code",
   "execution_count": 1069,
   "metadata": {},
   "outputs": [],
   "source": [
    "ff = list(set(results[0][2]))"
   ]
  },
  {
   "cell_type": "code",
   "execution_count": 1070,
   "metadata": {},
   "outputs": [
    {
     "data": {
      "text/plain": [
       "array([{'order_id': 16543, 'pickup_point_id': 46543, 'pickup_from': 330, 'pickup_to': 870, 'pickup_location_x': 263, 'pickup_location_y': 146, 'dropoff_point_id': 66543, 'dropoff_from': 818, 'dropoff_to': 930, 'dropoff_location_x': 115, 'dropoff_location_y': 226, 'payment': 511},\n",
       "       {'order_id': 16035, 'pickup_point_id': 46035, 'pickup_from': 390, 'pickup_to': 1110, 'pickup_location_x': 74, 'pickup_location_y': 126, 'dropoff_point_id': 66035, 'dropoff_from': 1140, 'dropoff_to': 1200, 'dropoff_location_x': 289, 'dropoff_location_y': 63, 'payment': 439},\n",
       "       {'order_id': 15525, 'pickup_point_id': 45525, 'pickup_from': 360, 'pickup_to': 750, 'pickup_location_x': 288, 'pickup_location_y': 155, 'dropoff_point_id': 65525, 'dropoff_from': 715, 'dropoff_to': 840, 'dropoff_location_x': 11, 'dropoff_location_y': 105, 'payment': 490},\n",
       "       {'order_id': 16037, 'pickup_point_id': 46037, 'pickup_from': 390, 'pickup_to': 810, 'pickup_location_x': 272, 'pickup_location_y': 104, 'dropoff_point_id': 66037, 'dropoff_from': 763, 'dropoff_to': 840, 'dropoff_location_x': 198, 'dropoff_location_y': 116, 'payment': 292},\n",
       "       {'order_id': 16551, 'pickup_point_id': 46551, 'pickup_from': 300, 'pickup_to': 900, 'pickup_location_x': 175, 'pickup_location_y': 199, 'dropoff_point_id': 66551, 'dropoff_from': 819, 'dropoff_to': 960, 'dropoff_location_x': 229, 'dropoff_location_y': 77, 'payment': 398},\n",
       "       {'order_id': 16042, 'pickup_point_id': 46042, 'pickup_from': 300, 'pickup_to': 900, 'pickup_location_x': 148, 'pickup_location_y': 95, 'dropoff_point_id': 66042, 'dropoff_from': 763, 'dropoff_to': 930, 'dropoff_location_x': 212, 'dropoff_location_y': 255, 'payment': 314},\n",
       "       {'order_id': 12620, 'pickup_point_id': 42620, 'pickup_from': 509, 'pickup_to': 870, 'pickup_location_x': 266, 'pickup_location_y': 122, 'dropoff_point_id': 62620, 'dropoff_from': 509, 'dropoff_to': 900, 'dropoff_location_x': 273, 'dropoff_location_y': 228, 'payment': 390},\n",
       "       {'order_id': 16557, 'pickup_point_id': 46557, 'pickup_from': 360, 'pickup_to': 870, 'pickup_location_x': 232, 'pickup_location_y': 115, 'dropoff_point_id': 66557, 'dropoff_from': 820, 'dropoff_to': 900, 'dropoff_location_x': 297, 'dropoff_location_y': 66, 'payment': 366},\n",
       "       {'order_id': 16045, 'pickup_point_id': 46045, 'pickup_from': 300, 'pickup_to': 840, 'pickup_location_x': 89, 'pickup_location_y': 179, 'dropoff_point_id': 66045, 'dropoff_from': 764, 'dropoff_to': 900, 'dropoff_location_x': 242, 'dropoff_location_y': 179, 'payment': 413},\n",
       "       {'order_id': 15534, 'pickup_point_id': 45534, 'pickup_from': 420, 'pickup_to': 780, 'pickup_location_x': 157, 'pickup_location_y': 113, 'dropoff_point_id': 65534, 'dropoff_from': 716, 'dropoff_to': 810, 'dropoff_location_x': 162, 'dropoff_location_y': 149, 'payment': 280},\n",
       "       {'order_id': 15536, 'pickup_point_id': 45536, 'pickup_from': 330, 'pickup_to': 780, 'pickup_location_x': 160, 'pickup_location_y': 129, 'dropoff_point_id': 65536, 'dropoff_from': 716, 'dropoff_to': 840, 'dropoff_location_x': 349, 'dropoff_location_y': 171, 'payment': 542},\n",
       "       {'order_id': 12625, 'pickup_point_id': 42625, 'pickup_from': 509, 'pickup_to': 780, 'pickup_location_x': 241, 'pickup_location_y': 75, 'dropoff_point_id': 62625, 'dropoff_from': 509, 'dropoff_to': 780, 'dropoff_location_x': 210, 'dropoff_location_y': 161, 'payment': 331},\n",
       "       {'order_id': 15538, 'pickup_point_id': 45538, 'pickup_from': 390, 'pickup_to': 810, 'pickup_location_x': 242, 'pickup_location_y': 101, 'dropoff_point_id': 65538, 'dropoff_from': 716, 'dropoff_to': 870, 'dropoff_location_x': 144, 'dropoff_location_y': 167, 'payment': 437},\n",
       "       {'order_id': 16568, 'pickup_point_id': 46568, 'pickup_from': 360, 'pickup_to': 900, 'pickup_location_x': 285, 'pickup_location_y': 150, 'dropoff_point_id': 66568, 'dropoff_from': 930, 'dropoff_to': 960, 'dropoff_location_x': 182, 'dropoff_location_y': 152, 'payment': 431},\n",
       "       {'order_id': 16056, 'pickup_point_id': 46056, 'pickup_from': 390, 'pickup_to': 810, 'pickup_location_x': 244, 'pickup_location_y': 120, 'dropoff_point_id': 66056, 'dropoff_from': 765, 'dropoff_to': 810, 'dropoff_location_x': 238, 'dropoff_location_y': 123, 'payment': 177},\n",
       "       {'order_id': 15545, 'pickup_point_id': 45545, 'pickup_from': 420, 'pickup_to': 780, 'pickup_location_x': 222, 'pickup_location_y': 102, 'dropoff_point_id': 65545, 'dropoff_from': 780, 'dropoff_to': 900, 'dropoff_location_x': 132, 'dropoff_location_y': 223, 'payment': 351},\n",
       "       {'order_id': 16574, 'pickup_point_id': 46574, 'pickup_from': 330, 'pickup_to': 870, 'pickup_location_x': 274, 'pickup_location_y': 110, 'dropoff_point_id': 66574, 'dropoff_from': 900, 'dropoff_to': 960, 'dropoff_location_x': 95, 'dropoff_location_y': 84, 'payment': 402},\n",
       "       {'order_id': 16576, 'pickup_point_id': 46576, 'pickup_from': 330, 'pickup_to': 1110, 'pickup_location_x': 176, 'pickup_location_y': 180, 'dropoff_point_id': 66576, 'dropoff_from': 1110, 'dropoff_to': 1140, 'dropoff_location_x': 133, 'dropoff_location_y': 58, 'payment': 405},\n",
       "       {'order_id': 15558, 'pickup_point_id': 45558, 'pickup_from': 390, 'pickup_to': 780, 'pickup_location_x': 192, 'pickup_location_y': 116, 'dropoff_point_id': 65558, 'dropoff_from': 718, 'dropoff_to': 840, 'dropoff_location_x': 227, 'dropoff_location_y': 168, 'payment': 305},\n",
       "       {'order_id': 17096, 'pickup_point_id': 47096, 'pickup_from': 390, 'pickup_to': 1020, 'pickup_location_x': 278, 'pickup_location_y': 114, 'dropoff_point_id': 67096, 'dropoff_from': 1050, 'dropoff_to': 1110, 'dropoff_location_x': 117, 'dropoff_location_y': 57, 'payment': 475},\n",
       "       {'order_id': 17097, 'pickup_point_id': 47097, 'pickup_from': 390, 'pickup_to': 1020, 'pickup_location_x': 260, 'pickup_location_y': 85, 'dropoff_point_id': 67097, 'dropoff_from': 934, 'dropoff_to': 1110, 'dropoff_location_x': 213, 'dropoff_location_y': 292, 'payment': 488},\n",
       "       {'order_id': 16595, 'pickup_point_id': 46595, 'pickup_from': 420, 'pickup_to': 900, 'pickup_location_x': 264, 'pickup_location_y': 141, 'dropoff_point_id': 66595, 'dropoff_from': 825, 'dropoff_to': 930, 'dropoff_location_x': 258, 'dropoff_location_y': 237, 'payment': 351},\n",
       "       {'order_id': 16599, 'pickup_point_id': 46599, 'pickup_from': 420, 'pickup_to': 1080, 'pickup_location_x': 197, 'pickup_location_y': 179, 'dropoff_point_id': 66599, 'dropoff_from': 826, 'dropoff_to': 930, 'dropoff_location_x': 225, 'dropoff_location_y': 123, 'payment': 264},\n",
       "       {'order_id': 10937, 'pickup_point_id': 40937, 'pickup_from': 360, 'pickup_to': 1140, 'pickup_location_x': 137, 'pickup_location_y': 201, 'dropoff_point_id': 60937, 'dropoff_from': 1170, 'dropoff_to': 1200, 'dropoff_location_x': 28, 'dropoff_location_y': 147, 'payment': 439},\n",
       "       {'order_id': 13555, 'pickup_point_id': 43555, 'pickup_from': 569, 'pickup_to': 720, 'pickup_location_x': 204, 'pickup_location_y': 206, 'dropoff_point_id': 63555, 'dropoff_from': 569, 'dropoff_to': 870, 'dropoff_location_x': 272, 'dropoff_location_y': 70, 'payment': 466},\n",
       "       {'order_id': 17126, 'pickup_point_id': 47126, 'pickup_from': 420, 'pickup_to': 1020, 'pickup_location_x': 278, 'pickup_location_y': 114, 'dropoff_point_id': 67126, 'dropoff_from': 943, 'dropoff_to': 1080, 'dropoff_location_x': 118, 'dropoff_location_y': 68, 'payment': 475},\n",
       "       {'order_id': 16614, 'pickup_point_id': 46614, 'pickup_from': 360, 'pickup_to': 870, 'pickup_location_x': 223, 'pickup_location_y': 108, 'dropoff_point_id': 66614, 'dropoff_from': 930, 'dropoff_to': 990, 'dropoff_location_x': 24, 'dropoff_location_y': 67, 'payment': 500},\n",
       "       {'order_id': 16104, 'pickup_point_id': 46104, 'pickup_from': 420, 'pickup_to': 810, 'pickup_location_x': 162, 'pickup_location_y': 149, 'dropoff_point_id': 66104, 'dropoff_from': 769, 'dropoff_to': 900, 'dropoff_location_x': 332, 'dropoff_location_y': 125, 'payment': 808},\n",
       "       {'order_id': 11863, 'pickup_point_id': 41863, 'pickup_from': 454, 'pickup_to': 900, 'pickup_location_x': 174, 'pickup_location_y': 148, 'dropoff_point_id': 61863, 'dropoff_from': 454, 'dropoff_to': 930, 'dropoff_location_x': 176, 'dropoff_location_y': 240, 'payment': 233},\n",
       "       {'order_id': 17140, 'pickup_point_id': 47140, 'pickup_from': 390, 'pickup_to': 1050, 'pickup_location_x': 25, 'pickup_location_y': 77, 'dropoff_point_id': 67140, 'dropoff_from': 949, 'dropoff_to': 1140, 'dropoff_location_x': 290, 'dropoff_location_y': 14, 'payment': 622},\n",
       "       {'order_id': 16632, 'pickup_point_id': 46632, 'pickup_from': 300, 'pickup_to': 870, 'pickup_location_x': 285, 'pickup_location_y': 242, 'dropoff_point_id': 66632, 'dropoff_from': 831, 'dropoff_to': 960, 'dropoff_location_x': 239, 'dropoff_location_y': 61, 'payment': 390},\n",
       "       {'order_id': 17145, 'pickup_point_id': 47145, 'pickup_from': 390, 'pickup_to': 1110, 'pickup_location_x': 42, 'pickup_location_y': 162, 'dropoff_point_id': 67145, 'dropoff_from': 953, 'dropoff_to': 1140, 'dropoff_location_x': 185, 'dropoff_location_y': 5, 'payment': 544},\n",
       "       {'order_id': 17147, 'pickup_point_id': 47147, 'pickup_from': 300, 'pickup_to': 1200, 'pickup_location_x': 52, 'pickup_location_y': 193, 'dropoff_point_id': 67147, 'dropoff_from': 953, 'dropoff_to': 1230, 'dropoff_location_x': 158, 'dropoff_location_y': 163, 'payment': 235},\n",
       "       {'order_id': 16640, 'pickup_point_id': 46640, 'pickup_from': 330, 'pickup_to': 960, 'pickup_location_x': 244, 'pickup_location_y': 151, 'dropoff_point_id': 66640, 'dropoff_from': 990, 'dropoff_to': 1020, 'dropoff_location_x': 157, 'dropoff_location_y': 261, 'payment': 440},\n",
       "       {'order_id': 15620, 'pickup_point_id': 45620, 'pickup_from': 390, 'pickup_to': 840, 'pickup_location_x': 322, 'pickup_location_y': 121, 'dropoff_point_id': 65620, 'dropoff_from': 723, 'dropoff_to': 870, 'dropoff_location_x': 203, 'dropoff_location_y': 45, 'payment': 392},\n",
       "       {'order_id': 14438, 'pickup_point_id': 44438, 'pickup_from': 390, 'pickup_to': 720, 'pickup_location_x': 239, 'pickup_location_y': 163, 'dropoff_point_id': 64438, 'dropoff_from': 690, 'dropoff_to': 839, 'dropoff_location_x': 195, 'dropoff_location_y': 2, 'payment': 367},\n",
       "       {'order_id': 13604, 'pickup_point_id': 43604, 'pickup_from': 360, 'pickup_to': 1200, 'pickup_location_x': 218, 'pickup_location_y': 254, 'dropoff_point_id': 63604, 'dropoff_from': 990, 'dropoff_to': 1140, 'dropoff_location_x': 132, 'dropoff_location_y': 225, 'payment': 936},\n",
       "       {'order_id': 15623, 'pickup_point_id': 45623, 'pickup_from': 330, 'pickup_to': 930, 'pickup_location_x': 203, 'pickup_location_y': 94, 'dropoff_point_id': 65623, 'dropoff_from': 723, 'dropoff_to': 960, 'dropoff_location_x': 345, 'dropoff_location_y': 82, 'payment': 370},\n",
       "       {'order_id': 11021, 'pickup_point_id': 41021, 'pickup_from': 361, 'pickup_to': 870, 'pickup_location_x': 218, 'pickup_location_y': 162, 'dropoff_point_id': 61021, 'dropoff_from': 361, 'dropoff_to': 900, 'dropoff_location_x': 284, 'dropoff_location_y': 65, 'payment': 358},\n",
       "       {'order_id': 15629, 'pickup_point_id': 45629, 'pickup_from': 360, 'pickup_to': 810, 'pickup_location_x': 314, 'pickup_location_y': 73, 'dropoff_point_id': 65629, 'dropoff_from': 724, 'dropoff_to': 840, 'dropoff_location_x': 261, 'dropoff_location_y': 143, 'payment': 347},\n",
       "       {'order_id': 16654, 'pickup_point_id': 46654, 'pickup_from': 300, 'pickup_to': 900, 'pickup_location_x': 185, 'pickup_location_y': 18, 'dropoff_point_id': 66654, 'dropoff_from': 835, 'dropoff_to': 990, 'dropoff_location_x': 38, 'dropoff_location_y': 119, 'payment': 473},\n",
       "       {'order_id': 17170, 'pickup_point_id': 47170, 'pickup_from': 330, 'pickup_to': 1230, 'pickup_location_x': 263, 'pickup_location_y': 119, 'dropoff_point_id': 67170, 'dropoff_from': 990, 'dropoff_to': 1230, 'dropoff_location_x': 130, 'dropoff_location_y': 226, 'payment': 346},\n",
       "       {'order_id': 11918, 'pickup_point_id': 41918, 'pickup_from': 330, 'pickup_to': 900, 'pickup_location_x': 138, 'pickup_location_y': 218, 'dropoff_point_id': 61918, 'dropoff_from': 900, 'dropoff_to': 1020, 'dropoff_location_x': 260, 'dropoff_location_y': 52, 'payment': 465},\n",
       "       {'order_id': 17176, 'pickup_point_id': 47176, 'pickup_from': 330, 'pickup_to': 1230, 'pickup_location_x': 44, 'pickup_location_y': 198, 'dropoff_point_id': 67176, 'dropoff_from': 977, 'dropoff_to': 1230, 'dropoff_location_x': 322, 'dropoff_location_y': 51, 'payment': 431},\n",
       "       {'order_id': 16030, 'pickup_point_id': 46030, 'pickup_from': 360, 'pickup_to': 840, 'pickup_location_x': 201, 'pickup_location_y': 132, 'dropoff_point_id': 66030, 'dropoff_from': 762, 'dropoff_to': 900, 'dropoff_location_x': 283, 'dropoff_location_y': 265, 'payment': 436},\n",
       "       {'order_id': 14475, 'pickup_point_id': 44475, 'pickup_from': 330, 'pickup_to': 1080, 'pickup_location_x': 257, 'pickup_location_y': 70, 'dropoff_point_id': 64475, 'dropoff_from': 690, 'dropoff_to': 1230, 'dropoff_location_x': 78, 'dropoff_location_y': 45, 'payment': 579},\n",
       "       {'order_id': 11936, 'pickup_point_id': 41936, 'pickup_from': 470, 'pickup_to': 840, 'pickup_location_x': 288, 'pickup_location_y': 103, 'dropoff_point_id': 61936, 'dropoff_from': 660, 'dropoff_to': 840, 'dropoff_location_x': 318, 'dropoff_location_y': 106, 'payment': 290},\n",
       "       {'order_id': 16667, 'pickup_point_id': 46667, 'pickup_from': 420, 'pickup_to': 900, 'pickup_location_x': 232, 'pickup_location_y': 115, 'dropoff_point_id': 66667, 'dropoff_from': 900, 'dropoff_to': 960, 'dropoff_location_x': 130, 'dropoff_location_y': 141, 'payment': 343},\n",
       "       {'order_id': 11935, 'pickup_point_id': 41935, 'pickup_from': 470, 'pickup_to': 1020, 'pickup_location_x': 100, 'pickup_location_y': 226, 'dropoff_point_id': 61935, 'dropoff_from': 840, 'dropoff_to': 1020, 'dropoff_location_x': 116, 'dropoff_location_y': 218, 'payment': 290},\n",
       "       {'order_id': 16673, 'pickup_point_id': 46673, 'pickup_from': 420, 'pickup_to': 960, 'pickup_location_x': 195, 'pickup_location_y': 92, 'dropoff_point_id': 66673, 'dropoff_from': 838, 'dropoff_to': 990, 'dropoff_location_x': 263, 'dropoff_location_y': 64, 'payment': 378},\n",
       "       {'order_id': 17186, 'pickup_point_id': 47186, 'pickup_from': 390, 'pickup_to': 1020, 'pickup_location_x': 250, 'pickup_location_y': 73, 'dropoff_point_id': 67186, 'dropoff_from': 982, 'dropoff_to': 1080, 'dropoff_location_x': 207, 'dropoff_location_y': 134, 'payment': 290},\n",
       "       {'order_id': 11971, 'pickup_point_id': 41971, 'pickup_from': 510, 'pickup_to': 750, 'pickup_location_x': 211, 'pickup_location_y': 80, 'dropoff_point_id': 61971, 'dropoff_from': 463, 'dropoff_to': 750, 'dropoff_location_x': 173, 'dropoff_location_y': 71, 'payment': 274},\n",
       "       {'order_id': 16692, 'pickup_point_id': 46692, 'pickup_from': 360, 'pickup_to': 900, 'pickup_location_x': 325, 'pickup_location_y': 122, 'dropoff_point_id': 66692, 'dropoff_from': 842, 'dropoff_to': 960, 'dropoff_location_x': 247, 'dropoff_location_y': 85, 'payment': 417},\n",
       "       {'order_id': 15671, 'pickup_point_id': 45671, 'pickup_from': 420, 'pickup_to': 780, 'pickup_location_x': 303, 'pickup_location_y': 26, 'dropoff_point_id': 65671, 'dropoff_from': 727, 'dropoff_to': 840, 'dropoff_location_x': 207, 'dropoff_location_y': 171, 'payment': 411},\n",
       "       {'order_id': 15674, 'pickup_point_id': 45674, 'pickup_from': 420, 'pickup_to': 870, 'pickup_location_x': 162, 'pickup_location_y': 198, 'dropoff_point_id': 65674, 'dropoff_from': 727, 'dropoff_to': 1020, 'dropoff_location_x': 205, 'dropoff_location_y': 54, 'payment': 487},\n",
       "       {'order_id': 15677, 'pickup_point_id': 45677, 'pickup_from': 390, 'pickup_to': 810, 'pickup_location_x': 193, 'pickup_location_y': 257, 'dropoff_point_id': 65677, 'dropoff_from': 810, 'dropoff_to': 900, 'dropoff_location_x': 134, 'dropoff_location_y': 79, 'payment': 508},\n",
       "       {'order_id': 16206, 'pickup_point_id': 46206, 'pickup_from': 330, 'pickup_to': 870, 'pickup_location_x': 226, 'pickup_location_y': 129, 'dropoff_point_id': 66206, 'dropoff_from': 780, 'dropoff_to': 900, 'dropoff_location_x': 372, 'dropoff_location_y': 77, 'payment': 372},\n",
       "       {'order_id': 16210, 'pickup_point_id': 46210, 'pickup_from': 360, 'pickup_to': 870, 'pickup_location_x': 183, 'pickup_location_y': 182, 'dropoff_point_id': 66210, 'dropoff_from': 780, 'dropoff_to': 900, 'dropoff_location_x': 131, 'dropoff_location_y': 37, 'payment': 463},\n",
       "       {'order_id': 17236, 'pickup_point_id': 47236, 'pickup_from': 330, 'pickup_to': 1140, 'pickup_location_x': 178, 'pickup_location_y': 131, 'dropoff_point_id': 67236, 'dropoff_from': 1025, 'dropoff_to': 1170, 'dropoff_location_x': 81, 'dropoff_location_y': 47, 'payment': 466},\n",
       "       {'order_id': 17237, 'pickup_point_id': 47237, 'pickup_from': 420, 'pickup_to': 1200, 'pickup_location_x': 371, 'pickup_location_y': 92, 'dropoff_point_id': 67237, 'dropoff_from': 1026, 'dropoff_to': 1230, 'dropoff_location_x': 286, 'dropoff_location_y': 9, 'payment': 472},\n",
       "       {'order_id': 16215, 'pickup_point_id': 46215, 'pickup_from': 300, 'pickup_to': 870, 'pickup_location_x': 54, 'pickup_location_y': 203, 'dropoff_point_id': 66215, 'dropoff_from': 780, 'dropoff_to': 900, 'dropoff_location_x': 230, 'dropoff_location_y': 152, 'payment': 492},\n",
       "       {'order_id': 17241, 'pickup_point_id': 47241, 'pickup_from': 390, 'pickup_to': 1200, 'pickup_location_x': 158, 'pickup_location_y': 208, 'dropoff_point_id': 67241, 'dropoff_from': 1030, 'dropoff_to': 1230, 'dropoff_location_x': 19, 'dropoff_location_y': 169, 'payment': 431},\n",
       "       {'order_id': 17244, 'pickup_point_id': 47244, 'pickup_from': 300, 'pickup_to': 1110, 'pickup_location_x': 100, 'pickup_location_y': 101, 'dropoff_point_id': 67244, 'dropoff_from': 1140, 'dropoff_to': 1200, 'dropoff_location_x': 242, 'dropoff_location_y': 102, 'payment': 391},\n",
       "       {'order_id': 17249, 'pickup_point_id': 47249, 'pickup_from': 300, 'pickup_to': 1110, 'pickup_location_x': 288, 'pickup_location_y': 103, 'dropoff_point_id': 67249, 'dropoff_from': 1140, 'dropoff_to': 1170, 'dropoff_location_x': 130, 'dropoff_location_y': 90, 'payment': 389},\n",
       "       {'order_id': 17254, 'pickup_point_id': 47254, 'pickup_from': 390, 'pickup_to': 1140, 'pickup_location_x': 130, 'pickup_location_y': 60, 'dropoff_point_id': 67254, 'dropoff_from': 1140, 'dropoff_to': 1230, 'dropoff_location_x': 269, 'dropoff_location_y': 254, 'payment': 441},\n",
       "       {'order_id': 16231, 'pickup_point_id': 46231, 'pickup_from': 390, 'pickup_to': 870, 'pickup_location_x': 221, 'pickup_location_y': 154, 'dropoff_point_id': 66231, 'dropoff_from': 783, 'dropoff_to': 900, 'dropoff_location_x': 357, 'dropoff_location_y': 99, 'payment': 389},\n",
       "       {'order_id': 17261, 'pickup_point_id': 47261, 'pickup_from': 420, 'pickup_to': 1200, 'pickup_location_x': 35, 'pickup_location_y': 79, 'dropoff_point_id': 67261, 'dropoff_from': 1080, 'dropoff_to': 1230, 'dropoff_location_x': 246, 'dropoff_location_y': 100, 'payment': 456},\n",
       "       {'order_id': 14611, 'pickup_point_id': 44611, 'pickup_from': 644, 'pickup_to': 720, 'pickup_location_x': 230, 'pickup_location_y': 112, 'dropoff_point_id': 64611, 'dropoff_from': 644, 'dropoff_to': 780, 'dropoff_location_x': 165, 'dropoff_location_y': 105, 'payment': 382},\n",
       "       {'order_id': 16755, 'pickup_point_id': 46755, 'pickup_from': 390, 'pickup_to': 930, 'pickup_location_x': 210, 'pickup_location_y': 187, 'dropoff_point_id': 66755, 'dropoff_from': 853, 'dropoff_to': 960, 'dropoff_location_x': 230, 'dropoff_location_y': 132, 'payment': 310},\n",
       "       {'order_id': 15732, 'pickup_point_id': 45732, 'pickup_from': 390, 'pickup_to': 990, 'pickup_location_x': 214, 'pickup_location_y': 107, 'dropoff_point_id': 65732, 'dropoff_from': 733, 'dropoff_to': 1050, 'dropoff_location_x': 20, 'dropoff_location_y': 71, 'payment': 522},\n",
       "       {'order_id': 12969, 'pickup_point_id': 42969, 'pickup_from': 570, 'pickup_to': 810, 'pickup_location_x': 281, 'pickup_location_y': 140, 'dropoff_point_id': 62969, 'dropoff_from': 570, 'dropoff_to': 810, 'dropoff_location_x': 227, 'dropoff_location_y': 130, 'payment': 220},\n",
       "       {'order_id': 17274, 'pickup_point_id': 47274, 'pickup_from': 360, 'pickup_to': 1140, 'pickup_location_x': 110, 'pickup_location_y': 128, 'dropoff_point_id': 67274, 'dropoff_from': 1058, 'dropoff_to': 1170, 'dropoff_location_x': 208, 'dropoff_location_y': 7, 'payment': 426},\n",
       "       {'order_id': 17280, 'pickup_point_id': 47280, 'pickup_from': 390, 'pickup_to': 1170, 'pickup_location_x': 219, 'pickup_location_y': 261, 'dropoff_point_id': 67280, 'dropoff_from': 1170, 'dropoff_to': 1200, 'dropoff_location_x': 311, 'dropoff_location_y': 5, 'payment': 510},\n",
       "       {'order_id': 17284, 'pickup_point_id': 47284, 'pickup_from': 420, 'pickup_to': 1140, 'pickup_location_x': 104, 'pickup_location_y': 91, 'dropoff_point_id': 67284, 'dropoff_from': 1074, 'dropoff_to': 1200, 'dropoff_location_x': 280, 'dropoff_location_y': 152, 'payment': 419},\n",
       "       {'order_id': 16262, 'pickup_point_id': 46262, 'pickup_from': 330, 'pickup_to': 900, 'pickup_location_x': 211, 'pickup_location_y': 118, 'dropoff_point_id': 66262, 'dropoff_from': 786, 'dropoff_to': 960, 'dropoff_location_x': 88, 'dropoff_location_y': 148, 'payment': 457},\n",
       "       {'order_id': 15752, 'pickup_point_id': 45752, 'pickup_from': 300, 'pickup_to': 810, 'pickup_location_x': 342, 'pickup_location_y': 134, 'dropoff_point_id': 65752, 'dropoff_from': 735, 'dropoff_to': 870, 'dropoff_location_x': 180, 'dropoff_location_y': 131, 'payment': 439},\n",
       "       {'order_id': 11263, 'pickup_point_id': 41263, 'pickup_from': 401, 'pickup_to': 1110, 'pickup_location_x': 18, 'pickup_location_y': 166, 'dropoff_point_id': 61263, 'dropoff_from': 480, 'dropoff_to': 1140, 'dropoff_location_x': 103, 'dropoff_location_y': 40, 'payment': 326},\n",
       "       {'order_id': 13820, 'pickup_point_id': 43820, 'pickup_from': 630, 'pickup_to': 870, 'pickup_location_x': 223, 'pickup_location_y': 215, 'dropoff_point_id': 63820, 'dropoff_from': 630, 'dropoff_to': 870, 'dropoff_location_x': 231, 'dropoff_location_y': 54, 'payment': 382},\n",
       "       {'order_id': 16266, 'pickup_point_id': 46266, 'pickup_from': 360, 'pickup_to': 870, 'pickup_location_x': 138, 'pickup_location_y': 80, 'dropoff_point_id': 66266, 'dropoff_from': 786, 'dropoff_to': 900, 'dropoff_location_x': 332, 'dropoff_location_y': 166, 'payment': 463},\n",
       "       {'order_id': 16782, 'pickup_point_id': 46782, 'pickup_from': 300, 'pickup_to': 990, 'pickup_location_x': 198, 'pickup_location_y': 158, 'dropoff_point_id': 66782, 'dropoff_from': 900, 'dropoff_to': 1020, 'dropoff_location_x': 106, 'dropoff_location_y': 99, 'payment': 327},\n",
       "       {'order_id': 17296, 'pickup_point_id': 47296, 'pickup_from': 300, 'pickup_to': 1170, 'pickup_location_x': 101, 'pickup_location_y': 101, 'dropoff_point_id': 67296, 'dropoff_from': 1103, 'dropoff_to': 1200, 'dropoff_location_x': 110, 'dropoff_location_y': 66, 'payment': 224},\n",
       "       {'order_id': 17297, 'pickup_point_id': 47297, 'pickup_from': 360, 'pickup_to': 1170, 'pickup_location_x': 110, 'pickup_location_y': 66, 'dropoff_point_id': 67297, 'dropoff_from': 1105, 'dropoff_to': 1200, 'dropoff_location_x': 101, 'dropoff_location_y': 101, 'payment': 236},\n",
       "       {'order_id': 15251, 'pickup_point_id': 45251, 'pickup_from': 360, 'pickup_to': 780, 'pickup_location_x': 225, 'pickup_location_y': 134, 'dropoff_point_id': 65251, 'dropoff_from': 694, 'dropoff_to': 840, 'dropoff_location_x': 131, 'dropoff_location_y': 184, 'payment': 399},\n",
       "       {'order_id': 17303, 'pickup_point_id': 47303, 'pickup_from': 330, 'pickup_to': 1170, 'pickup_location_x': 243, 'pickup_location_y': 115, 'dropoff_point_id': 67303, 'dropoff_from': 1200, 'dropoff_to': 1230, 'dropoff_location_x': 135, 'dropoff_location_y': 51, 'payment': 359},\n",
       "       {'order_id': 16286, 'pickup_point_id': 46286, 'pickup_from': 420, 'pickup_to': 900, 'pickup_location_x': 104, 'pickup_location_y': 2, 'dropoff_point_id': 66286, 'dropoff_from': 788, 'dropoff_to': 930, 'dropoff_location_x': 233, 'dropoff_location_y': 136, 'payment': 428},\n",
       "       {'order_id': 12169, 'pickup_point_id': 42169, 'pickup_from': 477, 'pickup_to': 690, 'pickup_location_x': 247, 'pickup_location_y': 109, 'dropoff_point_id': 62169, 'dropoff_from': 477, 'dropoff_to': 720, 'dropoff_location_x': 230, 'dropoff_location_y': 17, 'payment': 648},\n",
       "       {'order_id': 15783, 'pickup_point_id': 45783, 'pickup_from': 420, 'pickup_to': 810, 'pickup_location_x': 138, 'pickup_location_y': 133, 'dropoff_point_id': 65783, 'dropoff_from': 738, 'dropoff_to': 870, 'dropoff_location_x': 267, 'dropoff_location_y': 144, 'payment': 404},\n",
       "       {'order_id': 15277, 'pickup_point_id': 45277, 'pickup_from': 390, 'pickup_to': 780, 'pickup_location_x': 146, 'pickup_location_y': 94, 'dropoff_point_id': 65277, 'dropoff_from': 695, 'dropoff_to': 810, 'dropoff_location_x': 206, 'dropoff_location_y': 117, 'payment': 313},\n",
       "       {'order_id': 16815, 'pickup_point_id': 46815, 'pickup_from': 330, 'pickup_to': 959, 'pickup_location_x': 279, 'pickup_location_y': 226, 'dropoff_point_id': 66815, 'dropoff_from': 959, 'dropoff_to': 1049, 'dropoff_location_x': 163, 'dropoff_location_y': 121, 'payment': 500},\n",
       "       {'order_id': 11338, 'pickup_point_id': 41338, 'pickup_from': 411, 'pickup_to': 840, 'pickup_location_x': 200, 'pickup_location_y': 154, 'dropoff_point_id': 61338, 'dropoff_from': 411, 'dropoff_to': 870, 'dropoff_location_x': 219, 'dropoff_location_y': 98, 'payment': 277},\n",
       "       {'order_id': 12210, 'pickup_point_id': 42210, 'pickup_from': 480, 'pickup_to': 720, 'pickup_location_x': 216, 'pickup_location_y': 156, 'dropoff_point_id': 62210, 'dropoff_from': 480, 'dropoff_to': 780, 'dropoff_location_x': 296, 'dropoff_location_y': 56, 'payment': 344},\n",
       "       {'order_id': 16826, 'pickup_point_id': 46826, 'pickup_from': 420, 'pickup_to': 930, 'pickup_location_x': 265, 'pickup_location_y': 71, 'dropoff_point_id': 66826, 'dropoff_from': 866, 'dropoff_to': 960, 'dropoff_location_x': 230, 'dropoff_location_y': 134, 'payment': 285},\n",
       "       {'order_id': 15292, 'pickup_point_id': 45292, 'pickup_from': 390, 'pickup_to': 750, 'pickup_location_x': 169, 'pickup_location_y': 154, 'dropoff_point_id': 65292, 'dropoff_from': 696, 'dropoff_to': 840, 'dropoff_location_x': 213, 'dropoff_location_y': 6, 'payment': 411},\n",
       "       {'order_id': 16830, 'pickup_point_id': 46830, 'pickup_from': 360, 'pickup_to': 1020, 'pickup_location_x': 139, 'pickup_location_y': 138, 'dropoff_point_id': 66830, 'dropoff_from': 866, 'dropoff_to': 1050, 'dropoff_location_x': 122, 'dropoff_location_y': 18, 'payment': 440},\n",
       "       {'order_id': 16318, 'pickup_point_id': 46318, 'pickup_from': 360, 'pickup_to': 870, 'pickup_location_x': 240, 'pickup_location_y': 70, 'dropoff_point_id': 66318, 'dropoff_from': 792, 'dropoff_to': 900, 'dropoff_location_x': 181, 'dropoff_location_y': 185, 'payment': 395},\n",
       "       {'order_id': 16320, 'pickup_point_id': 46320, 'pickup_from': 360, 'pickup_to': 870, 'pickup_location_x': 117, 'pickup_location_y': 140, 'dropoff_point_id': 66320, 'dropoff_from': 870, 'dropoff_to': 930, 'dropoff_location_x': 247, 'dropoff_location_y': 119, 'payment': 311},\n",
       "       {'order_id': 14773, 'pickup_point_id': 44773, 'pickup_from': 657, 'pickup_to': 870, 'pickup_location_x': 185, 'pickup_location_y': 139, 'dropoff_point_id': 64773, 'dropoff_from': 657, 'dropoff_to': 930, 'dropoff_location_x': 216, 'dropoff_location_y': 159, 'payment': 295},\n",
       "       {'order_id': 16851, 'pickup_point_id': 46851, 'pickup_from': 360, 'pickup_to': 930, 'pickup_location_x': 274, 'pickup_location_y': 110, 'dropoff_point_id': 66851, 'dropoff_from': 871, 'dropoff_to': 990, 'dropoff_location_x': 329, 'dropoff_location_y': 53, 'payment': 324},\n",
       "       {'order_id': 15319, 'pickup_point_id': 45319, 'pickup_from': 330, 'pickup_to': 840, 'pickup_location_x': 166, 'pickup_location_y': 7, 'dropoff_point_id': 65319, 'dropoff_from': 870, 'dropoff_to': 1020, 'dropoff_location_x': 224, 'dropoff_location_y': 142, 'payment': 413},\n",
       "       {'order_id': 15832, 'pickup_point_id': 45832, 'pickup_from': 300, 'pickup_to': 780, 'pickup_location_x': 288, 'pickup_location_y': 131, 'dropoff_point_id': 65832, 'dropoff_from': 742, 'dropoff_to': 840, 'dropoff_location_x': 220, 'dropoff_location_y': 109, 'payment': 478},\n",
       "       {'order_id': 16346, 'pickup_point_id': 46346, 'pickup_from': 420, 'pickup_to': 870, 'pickup_location_x': 151, 'pickup_location_y': 213, 'dropoff_point_id': 66346, 'dropoff_from': 840, 'dropoff_to': 960, 'dropoff_location_x': 200, 'dropoff_location_y': 57, 'payment': 454},\n",
       "       {'order_id': 14804, 'pickup_point_id': 44804, 'pickup_from': 420, 'pickup_to': 1050, 'pickup_location_x': 261, 'pickup_location_y': 104, 'dropoff_point_id': 64804, 'dropoff_from': 1080, 'dropoff_to': 1140, 'dropoff_location_x': 133, 'dropoff_location_y': 86, 'payment': 401},\n",
       "       {'order_id': 15325, 'pickup_point_id': 45325, 'pickup_from': 360, 'pickup_to': 960, 'pickup_location_x': 114, 'pickup_location_y': 82, 'dropoff_point_id': 65325, 'dropoff_from': 840, 'dropoff_to': 1050, 'dropoff_location_x': 218, 'dropoff_location_y': 117, 'payment': 585},\n",
       "       {'order_id': 15326, 'pickup_point_id': 45326, 'pickup_from': 390, 'pickup_to': 840, 'pickup_location_x': 351, 'pickup_location_y': 161, 'dropoff_point_id': 65326, 'dropoff_from': 870, 'dropoff_to': 1080, 'dropoff_location_x': 50, 'dropoff_location_y': 158, 'payment': 523},\n",
       "       {'order_id': 16352, 'pickup_point_id': 46352, 'pickup_from': 360, 'pickup_to': 870, 'pickup_location_x': 270, 'pickup_location_y': 69, 'dropoff_point_id': 66352, 'dropoff_from': 840, 'dropoff_to': 974, 'dropoff_location_x': 188, 'dropoff_location_y': 159, 'payment': 304},\n",
       "       {'order_id': 15842, 'pickup_point_id': 45842, 'pickup_from': 330, 'pickup_to': 960, 'pickup_location_x': 200, 'pickup_location_y': 74, 'dropoff_point_id': 65842, 'dropoff_from': 1020, 'dropoff_to': 1050, 'dropoff_location_x': 137, 'dropoff_location_y': 279, 'payment': 613},\n",
       "       {'order_id': 15844, 'pickup_point_id': 45844, 'pickup_from': 420, 'pickup_to': 1170, 'pickup_location_x': 94, 'pickup_location_y': 77, 'dropoff_point_id': 65844, 'dropoff_from': 1110, 'dropoff_to': 1200, 'dropoff_location_x': 228, 'dropoff_location_y': 81, 'payment': 467},\n",
       "       {'order_id': 15333, 'pickup_point_id': 45333, 'pickup_from': 360, 'pickup_to': 780, 'pickup_location_x': 322, 'pickup_location_y': 168, 'dropoff_point_id': 65333, 'dropoff_from': 780, 'dropoff_to': 840, 'dropoff_location_x': 252, 'dropoff_location_y': 197, 'payment': 484},\n",
       "       {'order_id': 16356, 'pickup_point_id': 46356, 'pickup_from': 390, 'pickup_to': 900, 'pickup_location_x': 202, 'pickup_location_y': 105, 'dropoff_point_id': 66356, 'dropoff_from': 840, 'dropoff_to': 900, 'dropoff_location_x': 292, 'dropoff_location_y': 149, 'payment': 412},\n",
       "       {'order_id': 11414, 'pickup_point_id': 41414, 'pickup_from': 420, 'pickup_to': 870, 'pickup_location_x': 243, 'pickup_location_y': 111, 'dropoff_point_id': 61414, 'dropoff_from': 900, 'dropoff_to': 930, 'dropoff_location_x': 61, 'dropoff_location_y': 212, 'payment': 397},\n",
       "       {'order_id': 16363, 'pickup_point_id': 46363, 'pickup_from': 360, 'pickup_to': 870, 'pickup_location_x': 195, 'pickup_location_y': 183, 'dropoff_point_id': 66363, 'dropoff_from': 900, 'dropoff_to': 930, 'dropoff_location_x': 205, 'dropoff_location_y': 98, 'payment': 306},\n",
       "       {'order_id': 16876, 'pickup_point_id': 46876, 'pickup_from': 300, 'pickup_to': 930, 'pickup_location_x': 218, 'pickup_location_y': 146, 'dropoff_point_id': 66876, 'dropoff_from': 930, 'dropoff_to': 990, 'dropoff_location_x': 121, 'dropoff_location_y': 79, 'payment': 337},\n",
       "       {'order_id': 15854, 'pickup_point_id': 45854, 'pickup_from': 390, 'pickup_to': 810, 'pickup_location_x': 248, 'pickup_location_y': 199, 'dropoff_point_id': 65854, 'dropoff_from': 780, 'dropoff_to': 900, 'dropoff_location_x': 140, 'dropoff_location_y': 102, 'payment': 333},\n",
       "       {'order_id': 16882, 'pickup_point_id': 46882, 'pickup_from': 300, 'pickup_to': 930, 'pickup_location_x': 218, 'pickup_location_y': 155, 'dropoff_point_id': 66882, 'dropoff_from': 878, 'dropoff_to': 960, 'dropoff_location_x': 211, 'dropoff_location_y': 78, 'payment': 338},\n",
       "       {'order_id': 14835, 'pickup_point_id': 44835, 'pickup_from': 360, 'pickup_to': 720, 'pickup_location_x': 224, 'pickup_location_y': 141, 'dropoff_point_id': 64835, 'dropoff_from': 661, 'dropoff_to': 840, 'dropoff_location_x': 346, 'dropoff_location_y': 79, 'payment': 336},\n",
       "       {'order_id': 13177, 'pickup_point_id': 43177, 'pickup_from': 545, 'pickup_to': 990, 'pickup_location_x': 180, 'pickup_location_y': 39, 'dropoff_point_id': 63177, 'dropoff_from': 545, 'dropoff_to': 1020, 'dropoff_location_x': 91, 'dropoff_location_y': 146, 'payment': 322},\n",
       "       {'order_id': 13178, 'pickup_point_id': 43178, 'pickup_from': 545, 'pickup_to': 660, 'pickup_location_x': 75, 'pickup_location_y': 132, 'dropoff_point_id': 63178, 'dropoff_from': 545, 'dropoff_to': 840, 'dropoff_location_x': 224, 'dropoff_location_y': 172, 'payment': 451},\n",
       "       {'order_id': 13998, 'pickup_point_id': 43998, 'pickup_from': 300, 'pickup_to': 1020, 'pickup_location_x': 344, 'pickup_location_y': 65, 'dropoff_point_id': 63998, 'dropoff_from': 720, 'dropoff_to': 1050, 'dropoff_location_x': 211, 'dropoff_location_y': 108, 'payment': 306},\n",
       "       {'order_id': 15350, 'pickup_point_id': 45350, 'pickup_from': 330, 'pickup_to': 990, 'pickup_location_x': 225, 'pickup_location_y': 114, 'dropoff_point_id': 65350, 'dropoff_from': 960, 'dropoff_to': 1020, 'dropoff_location_x': 265, 'dropoff_location_y': 70, 'payment': 494},\n",
       "       {'order_id': 13183, 'pickup_point_id': 43183, 'pickup_from': 545, 'pickup_to': 780, 'pickup_location_x': 107, 'pickup_location_y': 55, 'dropoff_point_id': 63183, 'dropoff_from': 600, 'dropoff_to': 900, 'dropoff_location_x': 224, 'dropoff_location_y': 140, 'payment': 326},\n",
       "       {'order_id': 13187, 'pickup_point_id': 43187, 'pickup_from': 545, 'pickup_to': 750, 'pickup_location_x': 167, 'pickup_location_y': 114, 'dropoff_point_id': 63187, 'dropoff_from': 545, 'dropoff_to': 780, 'dropoff_location_x': 223, 'dropoff_location_y': 60, 'payment': 377},\n",
       "       {'order_id': 14845, 'pickup_point_id': 44845, 'pickup_from': 420, 'pickup_to': 720, 'pickup_location_x': 261, 'pickup_location_y': 84, 'dropoff_point_id': 64845, 'dropoff_from': 662, 'dropoff_to': 810, 'dropoff_location_x': 156, 'dropoff_location_y': 130, 'payment': 459},\n",
       "       {'order_id': 12312, 'pickup_point_id': 42312, 'pickup_from': 487, 'pickup_to': 780, 'pickup_location_x': 248, 'pickup_location_y': 192, 'dropoff_point_id': 62312, 'dropoff_from': 487, 'dropoff_to': 840, 'dropoff_location_x': 207, 'dropoff_location_y': 86, 'payment': 369},\n",
       "       {'order_id': 15869, 'pickup_point_id': 45869, 'pickup_from': 330, 'pickup_to': 1050, 'pickup_location_x': 229, 'pickup_location_y': 125, 'dropoff_point_id': 65869, 'dropoff_from': 990, 'dropoff_to': 1080, 'dropoff_location_x': 105, 'dropoff_location_y': 111, 'payment': 368},\n",
       "       {'order_id': 16384, 'pickup_point_id': 46384, 'pickup_from': 360, 'pickup_to': 930, 'pickup_location_x': 202, 'pickup_location_y': 130, 'dropoff_point_id': 66384, 'dropoff_from': 798, 'dropoff_to': 960, 'dropoff_location_x': 345, 'dropoff_location_y': 58, 'payment': 440},\n",
       "       {'order_id': 16385, 'pickup_point_id': 46385, 'pickup_from': 360, 'pickup_to': 870, 'pickup_location_x': 226, 'pickup_location_y': 117, 'dropoff_point_id': 66385, 'dropoff_from': 798, 'dropoff_to': 900, 'dropoff_location_x': 74, 'dropoff_location_y': 119, 'payment': 375},\n",
       "       {'order_id': 16898, 'pickup_point_id': 46898, 'pickup_from': 360, 'pickup_to': 960, 'pickup_location_x': 276, 'pickup_location_y': 54, 'dropoff_point_id': 66898, 'dropoff_from': 930, 'dropoff_to': 1067, 'dropoff_location_x': 147, 'dropoff_location_y': 122, 'payment': 337},\n",
       "       {'order_id': 14017, 'pickup_point_id': 44017, 'pickup_from': 420, 'pickup_to': 750, 'pickup_location_x': 336, 'pickup_location_y': 156, 'dropoff_point_id': 64017, 'dropoff_from': 900, 'dropoff_to': 960, 'dropoff_location_x': 188, 'dropoff_location_y': 0, 'payment': 479},\n",
       "       {'order_id': 16393, 'pickup_point_id': 46393, 'pickup_from': 360, 'pickup_to': 840, 'pickup_location_x': 225, 'pickup_location_y': 97, 'dropoff_point_id': 66393, 'dropoff_from': 840, 'dropoff_to': 900, 'dropoff_location_x': 111, 'dropoff_location_y': 51, 'payment': 500},\n",
       "       {'order_id': 14862, 'pickup_point_id': 44862, 'pickup_from': 390, 'pickup_to': 780, 'pickup_location_x': 272, 'pickup_location_y': 70, 'dropoff_point_id': 64862, 'dropoff_from': 664, 'dropoff_to': 900, 'dropoff_location_x': 201, 'dropoff_location_y': 142, 'payment': 349},\n",
       "       {'order_id': 16910, 'pickup_point_id': 46910, 'pickup_from': 360, 'pickup_to': 930, 'pickup_location_x': 279, 'pickup_location_y': 229, 'dropoff_point_id': 66910, 'dropoff_from': 1050, 'dropoff_to': 1080, 'dropoff_location_x': 274, 'dropoff_location_y': 9, 'payment': 706},\n",
       "       {'order_id': 14864, 'pickup_point_id': 44864, 'pickup_from': 420, 'pickup_to': 960, 'pickup_location_x': 81, 'pickup_location_y': 20, 'dropoff_point_id': 64864, 'dropoff_from': 720, 'dropoff_to': 960, 'dropoff_location_x': 380, 'dropoff_location_y': 99, 'payment': 409},\n",
       "       {'order_id': 12347, 'pickup_point_id': 42347, 'pickup_from': 390, 'pickup_to': 870, 'pickup_location_x': 82, 'pickup_location_y': 22, 'dropoff_point_id': 62347, 'dropoff_from': 870, 'dropoff_to': 960, 'dropoff_location_x': 183, 'dropoff_location_y': 102, 'payment': 290},\n",
       "       {'order_id': 14869, 'pickup_point_id': 44869, 'pickup_from': 300, 'pickup_to': 870, 'pickup_location_x': 117, 'pickup_location_y': 193, 'dropoff_point_id': 64869, 'dropoff_from': 664, 'dropoff_to': 900, 'dropoff_location_x': 192, 'dropoff_location_y': 181, 'payment': 533},\n",
       "       {'order_id': 10591, 'pickup_point_id': 40591, 'pickup_from': 360, 'pickup_to': 1110, 'pickup_location_x': 230, 'pickup_location_y': 1, 'dropoff_point_id': 60591, 'dropoff_from': 1140, 'dropoff_to': 1200, 'dropoff_location_x': 287, 'dropoff_location_y': 113, 'payment': 449},\n",
       "       {'order_id': 16416, 'pickup_point_id': 46416, 'pickup_from': 330, 'pickup_to': 870, 'pickup_location_x': 251, 'pickup_location_y': 63, 'dropoff_point_id': 66416, 'dropoff_from': 870, 'dropoff_to': 930, 'dropoff_location_x': 196, 'dropoff_location_y': 190, 'payment': 583},\n",
       "       {'order_id': 16930, 'pickup_point_id': 46930, 'pickup_from': 300, 'pickup_to': 960, 'pickup_location_x': 257, 'pickup_location_y': 247, 'dropoff_point_id': 66930, 'dropoff_from': 930, 'dropoff_to': 1020, 'dropoff_location_x': 253, 'dropoff_location_y': 71, 'payment': 429},\n",
       "       {'order_id': 16419, 'pickup_point_id': 46419, 'pickup_from': 300, 'pickup_to': 840, 'pickup_location_x': 354, 'pickup_location_y': 45, 'dropoff_point_id': 66419, 'dropoff_from': 840, 'dropoff_to': 930, 'dropoff_location_x': 70, 'dropoff_location_y': 9, 'payment': 565},\n",
       "       {'order_id': 10600, 'pickup_point_id': 40600, 'pickup_from': 420, 'pickup_to': 1020, 'pickup_location_x': 140, 'pickup_location_y': 282, 'dropoff_point_id': 60600, 'dropoff_from': 1020, 'dropoff_to': 1080, 'dropoff_location_x': 321, 'dropoff_location_y': 144, 'payment': 415},\n",
       "       {'order_id': 16933, 'pickup_point_id': 46933, 'pickup_from': 300, 'pickup_to': 990, 'pickup_location_x': 165, 'pickup_location_y': 153, 'dropoff_point_id': 66933, 'dropoff_from': 890, 'dropoff_to': 1020, 'dropoff_location_x': 253, 'dropoff_location_y': 100, 'payment': 323},\n",
       "       {'order_id': 16421, 'pickup_point_id': 46421, 'pickup_from': 300, 'pickup_to': 990, 'pickup_location_x': 211, 'pickup_location_y': 80, 'dropoff_point_id': 66421, 'dropoff_from': 803, 'dropoff_to': 1020, 'dropoff_location_x': 364, 'dropoff_location_y': 158, 'payment': 365},\n",
       "       {'order_id': 16936, 'pickup_point_id': 46936, 'pickup_from': 390, 'pickup_to': 1050, 'pickup_location_x': 275, 'pickup_location_y': 2, 'dropoff_point_id': 66936, 'dropoff_from': 1050, 'dropoff_to': 1200, 'dropoff_location_x': 122, 'dropoff_location_y': 127, 'payment': 413},\n",
       "       {'order_id': 16938, 'pickup_point_id': 46938, 'pickup_from': 420, 'pickup_to': 1020, 'pickup_location_x': 244, 'pickup_location_y': 122, 'dropoff_point_id': 66938, 'dropoff_from': 892, 'dropoff_to': 1050, 'dropoff_location_x': 368, 'dropoff_location_y': 110, 'payment': 332},\n",
       "       {'order_id': 15403, 'pickup_point_id': 45403, 'pickup_from': 390, 'pickup_to': 750, 'pickup_location_x': 356, 'pickup_location_y': 77, 'dropoff_point_id': 65403, 'dropoff_from': 705, 'dropoff_to': 810, 'dropoff_location_x': 193, 'dropoff_location_y': 100, 'payment': 496},\n",
       "       {'order_id': 16942, 'pickup_point_id': 46942, 'pickup_from': 360, 'pickup_to': 990, 'pickup_location_x': 91, 'pickup_location_y': 119, 'dropoff_point_id': 66942, 'dropoff_from': 960, 'dropoff_to': 1146, 'dropoff_location_x': 268, 'dropoff_location_y': 73, 'payment': 443},\n",
       "       {'order_id': 11542, 'pickup_point_id': 41542, 'pickup_from': 360, 'pickup_to': 900, 'pickup_location_x': 173, 'pickup_location_y': 216, 'dropoff_point_id': 61542, 'dropoff_from': 780, 'dropoff_to': 960, 'dropoff_location_x': 240, 'dropoff_location_y': 144, 'payment': 373},\n",
       "       {'order_id': 16951, 'pickup_point_id': 46951, 'pickup_from': 420, 'pickup_to': 990, 'pickup_location_x': 197, 'pickup_location_y': 139, 'dropoff_point_id': 66951, 'dropoff_from': 1020, 'dropoff_to': 1050, 'dropoff_location_x': 216, 'dropoff_location_y': 243, 'payment': 383},\n",
       "       {'order_id': 15416, 'pickup_point_id': 45416, 'pickup_from': 420, 'pickup_to': 1020, 'pickup_location_x': 165, 'pickup_location_y': 133, 'dropoff_point_id': 65416, 'dropoff_from': 840, 'dropoff_to': 1020, 'dropoff_location_x': 189, 'dropoff_location_y': 139, 'payment': 250},\n",
       "       {'order_id': 15930, 'pickup_point_id': 45930, 'pickup_from': 330, 'pickup_to': 840, 'pickup_location_x': 276, 'pickup_location_y': 99, 'dropoff_point_id': 65930, 'dropoff_from': 753, 'dropoff_to': 960, 'dropoff_location_x': 128, 'dropoff_location_y': 163, 'payment': 386},\n",
       "       {'order_id': 15421, 'pickup_point_id': 45421, 'pickup_from': 300, 'pickup_to': 870, 'pickup_location_x': 165, 'pickup_location_y': 12, 'dropoff_point_id': 65421, 'dropoff_from': 810, 'dropoff_to': 1093, 'dropoff_location_x': 17, 'dropoff_location_y': 148, 'payment': 488},\n",
       "       {'order_id': 13291, 'pickup_point_id': 43291, 'pickup_from': 551, 'pickup_to': 720, 'pickup_location_x': 276, 'pickup_location_y': 138, 'dropoff_point_id': 63291, 'dropoff_from': 551, 'dropoff_to': 780, 'dropoff_location_x': 201, 'dropoff_location_y': 77, 'payment': 614},\n",
       "       {'order_id': 11560, 'pickup_point_id': 41560, 'pickup_from': 432, 'pickup_to': 870, 'pickup_location_x': 326, 'pickup_location_y': 99, 'dropoff_point_id': 61560, 'dropoff_from': 432, 'dropoff_to': 870, 'dropoff_location_x': 219, 'dropoff_location_y': 60, 'payment': 306},\n",
       "       {'order_id': 15424, 'pickup_point_id': 45424, 'pickup_from': 300, 'pickup_to': 780, 'pickup_location_x': 185, 'pickup_location_y': 44, 'dropoff_point_id': 65424, 'dropoff_from': 706, 'dropoff_to': 810, 'dropoff_location_x': 194, 'dropoff_location_y': 134, 'payment': 312},\n",
       "       {'order_id': 16445, 'pickup_point_id': 46445, 'pickup_from': 420, 'pickup_to': 840, 'pickup_location_x': 333, 'pickup_location_y': 89, 'dropoff_point_id': 66445, 'dropoff_from': 805, 'dropoff_to': 930, 'dropoff_location_x': 192, 'dropoff_location_y': 189, 'payment': 448},\n",
       "       {'order_id': 16456, 'pickup_point_id': 46456, 'pickup_from': 300, 'pickup_to': 870, 'pickup_location_x': 127, 'pickup_location_y': 132, 'dropoff_point_id': 66456, 'dropoff_from': 870, 'dropoff_to': 930, 'dropoff_location_x': 214, 'dropoff_location_y': 85, 'payment': 329},\n",
       "       {'order_id': 10669, 'pickup_point_id': 40669, 'pickup_from': 480, 'pickup_to': 840, 'pickup_location_x': 285, 'pickup_location_y': 198, 'dropoff_point_id': 60669, 'dropoff_from': 480, 'dropoff_to': 1080, 'dropoff_location_x': 161, 'dropoff_location_y': 55, 'payment': 343},\n",
       "       {'order_id': 15434, 'pickup_point_id': 45434, 'pickup_from': 390, 'pickup_to': 1200, 'pickup_location_x': 130, 'pickup_location_y': 211, 'dropoff_point_id': 65434, 'dropoff_from': 707, 'dropoff_to': 1230, 'dropoff_location_x': 291, 'dropoff_location_y': 190, 'payment': 435},\n",
       "       {'order_id': 15435, 'pickup_point_id': 45435, 'pickup_from': 420, 'pickup_to': 750, 'pickup_location_x': 316, 'pickup_location_y': 17, 'dropoff_point_id': 65435, 'dropoff_from': 707, 'dropoff_to': 900, 'dropoff_location_x': 14, 'dropoff_location_y': 125, 'payment': 586},\n",
       "       {'order_id': 10670, 'pickup_point_id': 40670, 'pickup_from': 360, 'pickup_to': 900, 'pickup_location_x': 139, 'pickup_location_y': 46, 'dropoff_point_id': 60670, 'dropoff_from': 900, 'dropoff_to': 960, 'dropoff_location_x': 179, 'dropoff_location_y': 99, 'payment': 304},\n",
       "       {'order_id': 15437, 'pickup_point_id': 45437, 'pickup_from': 360, 'pickup_to': 810, 'pickup_location_x': 90, 'pickup_location_y': 156, 'dropoff_point_id': 65437, 'dropoff_from': 707, 'dropoff_to': 840, 'dropoff_location_x': 330, 'dropoff_location_y': 75, 'payment': 382},\n",
       "       {'order_id': 15438, 'pickup_point_id': 45438, 'pickup_from': 360, 'pickup_to': 750, 'pickup_location_x': 190, 'pickup_location_y': 227, 'dropoff_point_id': 65438, 'dropoff_from': 707, 'dropoff_to': 900, 'dropoff_location_x': 363, 'dropoff_location_y': 67, 'payment': 507},\n",
       "       {'order_id': 14139, 'pickup_point_id': 44139, 'pickup_from': 609, 'pickup_to': 780, 'pickup_location_x': 225, 'pickup_location_y': 91, 'dropoff_point_id': 64139, 'dropoff_from': 609, 'dropoff_to': 840, 'dropoff_location_x': 335, 'dropoff_location_y': 164, 'payment': 398},\n",
       "       {'order_id': 16975, 'pickup_point_id': 46975, 'pickup_from': 330, 'pickup_to': 960, 'pickup_location_x': 201, 'pickup_location_y': 150, 'dropoff_point_id': 66975, 'dropoff_from': 1020, 'dropoff_to': 1050, 'dropoff_location_x': 2, 'dropoff_location_y': 93, 'payment': 442},\n",
       "       {'order_id': 15441, 'pickup_point_id': 45441, 'pickup_from': 360, 'pickup_to': 780, 'pickup_location_x': 167, 'pickup_location_y': 249, 'dropoff_point_id': 65441, 'dropoff_from': 750, 'dropoff_to': 840, 'dropoff_location_x': 245, 'dropoff_location_y': 25, 'payment': 434},\n",
       "       {'order_id': 15443, 'pickup_point_id': 45443, 'pickup_from': 420, 'pickup_to': 780, 'pickup_location_x': 206, 'pickup_location_y': 186, 'dropoff_point_id': 65443, 'dropoff_from': 708, 'dropoff_to': 840, 'dropoff_location_x': 238, 'dropoff_location_y': 33, 'payment': 425},\n",
       "       {'order_id': 15444, 'pickup_point_id': 45444, 'pickup_from': 420, 'pickup_to': 780, 'pickup_location_x': 195, 'pickup_location_y': 183, 'dropoff_point_id': 65444, 'dropoff_from': 810, 'dropoff_to': 870, 'dropoff_location_x': 59, 'dropoff_location_y': 123, 'payment': 366},\n",
       "       {'order_id': 15445, 'pickup_point_id': 45445, 'pickup_from': 420, 'pickup_to': 780, 'pickup_location_x': 213, 'pickup_location_y': 217, 'dropoff_point_id': 65445, 'dropoff_from': 708, 'dropoff_to': 840, 'dropoff_location_x': 274, 'dropoff_location_y': 65, 'payment': 361},\n",
       "       {'order_id': 15447, 'pickup_point_id': 45447, 'pickup_from': 360, 'pickup_to': 780, 'pickup_location_x': 279, 'pickup_location_y': 229, 'dropoff_point_id': 65447, 'dropoff_from': 750, 'dropoff_to': 840, 'dropoff_location_x': 368, 'dropoff_location_y': 122, 'payment': 582},\n",
       "       {'order_id': 15448, 'pickup_point_id': 45448, 'pickup_from': 360, 'pickup_to': 840, 'pickup_location_x': 179, 'pickup_location_y': 229, 'dropoff_point_id': 65448, 'dropoff_from': 720, 'dropoff_to': 900, 'dropoff_location_x': 332, 'dropoff_location_y': 90, 'payment': 551},\n",
       "       {'order_id': 12480, 'pickup_point_id': 42480, 'pickup_from': 499, 'pickup_to': 840, 'pickup_location_x': 169, 'pickup_location_y': 172, 'dropoff_point_id': 62480, 'dropoff_from': 499, 'dropoff_to': 870, 'dropoff_location_x': 373, 'dropoff_location_y': 72, 'payment': 620},\n",
       "       {'order_id': 16989, 'pickup_point_id': 46989, 'pickup_from': 360, 'pickup_to': 1050, 'pickup_location_x': 254, 'pickup_location_y': 168, 'dropoff_point_id': 66989, 'dropoff_from': 906, 'dropoff_to': 1080, 'dropoff_location_x': 32, 'dropoff_location_y': 154, 'payment': 509},\n",
       "       {'order_id': 15454, 'pickup_point_id': 45454, 'pickup_from': 330, 'pickup_to': 750, 'pickup_location_x': 193, 'pickup_location_y': 192, 'dropoff_point_id': 65454, 'dropoff_from': 709, 'dropoff_to': 840, 'dropoff_location_x': 259, 'dropoff_location_y': 118, 'payment': 393},\n",
       "       {'order_id': 16990, 'pickup_point_id': 46990, 'pickup_from': 360, 'pickup_to': 1020, 'pickup_location_x': 354, 'pickup_location_y': 81, 'dropoff_point_id': 66990, 'dropoff_from': 1080, 'dropoff_to': 1140, 'dropoff_location_x': 215, 'dropoff_location_y': 249, 'payment': 459},\n",
       "       {'order_id': 15458, 'pickup_point_id': 45458, 'pickup_from': 300, 'pickup_to': 900, 'pickup_location_x': 345, 'pickup_location_y': 54, 'dropoff_point_id': 65458, 'dropoff_from': 709, 'dropoff_to': 1020, 'dropoff_location_x': 50, 'dropoff_location_y': 158, 'payment': 551},\n",
       "       {'order_id': 10716, 'pickup_point_id': 40716, 'pickup_from': 330, 'pickup_to': 1050, 'pickup_location_x': 370, 'pickup_location_y': 110, 'dropoff_point_id': 60716, 'dropoff_from': 990, 'dropoff_to': 1140, 'dropoff_location_x': 14, 'dropoff_location_y': 94, 'payment': 540},\n",
       "       {'order_id': 15976, 'pickup_point_id': 45976, 'pickup_from': 330, 'pickup_to': 1020, 'pickup_location_x': 199, 'pickup_location_y': 101, 'dropoff_point_id': 65976, 'dropoff_from': 757, 'dropoff_to': 1050, 'dropoff_location_x': 159, 'dropoff_location_y': 271, 'payment': 333},\n",
       "       {'order_id': 16497, 'pickup_point_id': 46497, 'pickup_from': 390, 'pickup_to': 900, 'pickup_location_x': 82, 'pickup_location_y': 22, 'dropoff_point_id': 66497, 'dropoff_from': 812, 'dropoff_to': 960, 'dropoff_location_x': 183, 'dropoff_location_y': 102, 'payment': 290},\n",
       "       {'order_id': 17011, 'pickup_point_id': 47011, 'pickup_from': 360, 'pickup_to': 990, 'pickup_location_x': 266, 'pickup_location_y': 180, 'dropoff_point_id': 67011, 'dropoff_from': 913, 'dropoff_to': 1080, 'dropoff_location_x': 92, 'dropoff_location_y': 224, 'payment': 480},\n",
       "       {'order_id': 17014, 'pickup_point_id': 47014, 'pickup_from': 360, 'pickup_to': 990, 'pickup_location_x': 202, 'pickup_location_y': 62, 'dropoff_point_id': 67014, 'dropoff_from': 1020, 'dropoff_to': 1140, 'dropoff_location_x': 368, 'dropoff_location_y': 113, 'payment': 493},\n",
       "       {'order_id': 15990, 'pickup_point_id': 45990, 'pickup_from': 420, 'pickup_to': 840, 'pickup_location_x': 139, 'pickup_location_y': 180, 'dropoff_point_id': 65990, 'dropoff_from': 758, 'dropoff_to': 960, 'dropoff_location_x': 308, 'dropoff_location_y': 90, 'payment': 563},\n",
       "       {'order_id': 11660, 'pickup_point_id': 41660, 'pickup_from': 660, 'pickup_to': 810, 'pickup_location_x': 200, 'pickup_location_y': 141, 'dropoff_point_id': 61660, 'dropoff_from': 780, 'dropoff_to': 900, 'dropoff_location_x': 271, 'dropoff_location_y': 216, 'payment': 343},\n",
       "       {'order_id': 15997, 'pickup_point_id': 45997, 'pickup_from': 390, 'pickup_to': 840, 'pickup_location_x': 246, 'pickup_location_y': 26, 'dropoff_point_id': 65997, 'dropoff_from': 759, 'dropoff_to': 870, 'dropoff_location_x': 190, 'dropoff_location_y': 128, 'payment': 333},\n",
       "       {'order_id': 11670, 'pickup_point_id': 41670, 'pickup_from': 450, 'pickup_to': 840, 'pickup_location_x': 167, 'pickup_location_y': 226, 'dropoff_point_id': 61670, 'dropoff_from': 660, 'dropoff_to': 840, 'dropoff_location_x': 176, 'dropoff_location_y': 212, 'payment': 250},\n",
       "       {'order_id': 17027, 'pickup_point_id': 47027, 'pickup_from': 390, 'pickup_to': 1020, 'pickup_location_x': 230, 'pickup_location_y': 132, 'dropoff_point_id': 67027, 'dropoff_from': 1020, 'dropoff_to': 1050, 'dropoff_location_x': 281, 'dropoff_location_y': 266, 'payment': 406},\n",
       "       {'order_id': 17040, 'pickup_point_id': 47040, 'pickup_from': 420, 'pickup_to': 990, 'pickup_location_x': 252, 'pickup_location_y': 209, 'dropoff_point_id': 67040, 'dropoff_from': 920, 'dropoff_to': 1050, 'dropoff_location_x': 171, 'dropoff_location_y': 176, 'payment': 291},\n",
       "       {'order_id': 15507, 'pickup_point_id': 45507, 'pickup_from': 360, 'pickup_to': 900, 'pickup_location_x': 168, 'pickup_location_y': 147, 'dropoff_point_id': 65507, 'dropoff_from': 714, 'dropoff_to': 930, 'dropoff_location_x': 330, 'dropoff_location_y': 75, 'payment': 441},\n",
       "       {'order_id': 14270, 'pickup_point_id': 44270, 'pickup_from': 618, 'pickup_to': 810, 'pickup_location_x': 153, 'pickup_location_y': 135, 'dropoff_point_id': 64270, 'dropoff_from': 660, 'dropoff_to': 840, 'dropoff_location_x': 217, 'dropoff_location_y': 163, 'payment': 397},\n",
       "       {'order_id': 15004, 'pickup_point_id': 45004, 'pickup_from': 330, 'pickup_to': 750, 'pickup_location_x': 276, 'pickup_location_y': 81, 'dropoff_point_id': 65004, 'dropoff_from': 674, 'dropoff_to': 780, 'dropoff_location_x': 225, 'dropoff_location_y': 123, 'payment': 327},\n",
       "       {'order_id': 15517, 'pickup_point_id': 45517, 'pickup_from': 330, 'pickup_to': 810, 'pickup_location_x': 325, 'pickup_location_y': 52, 'dropoff_point_id': 65517, 'dropoff_from': 714, 'dropoff_to': 870, 'dropoff_location_x': 231, 'dropoff_location_y': 92, 'payment': 430},\n",
       "       {'order_id': 16542, 'pickup_point_id': 46542, 'pickup_from': 420, 'pickup_to': 900, 'pickup_location_x': 169, 'pickup_location_y': 173, 'dropoff_point_id': 66542, 'dropoff_from': 818, 'dropoff_to': 960, 'dropoff_location_x': 297, 'dropoff_location_y': 13, 'payment': 461}],\n",
       "      dtype=object)"
      ]
     },
     "execution_count": 1070,
     "metadata": {},
     "output_type": "execute_result"
    }
   ],
   "source": [
    "np.array(list(orders.values()))[ff]"
   ]
  },
  {
   "cell_type": "code",
   "execution_count": 1071,
   "metadata": {},
   "outputs": [
    {
     "data": {
      "text/plain": [
       "array([669, 780])"
      ]
     },
     "execution_count": 1071,
     "metadata": {},
     "output_type": "execute_result"
    }
   ],
   "source": [
    "orders_drop_times[2992]"
   ]
  },
  {
   "cell_type": "code",
   "execution_count": 1072,
   "metadata": {},
   "outputs": [
    {
     "data": {
      "text/plain": [
       "array([3817, 3500, 3502, 3503, 1885, 3506, 3510, 1881])"
      ]
     },
     "execution_count": 1072,
     "metadata": {},
     "output_type": "execute_result"
    }
   ],
   "source": [
    "is_used = np.zeros(len(orders))\n",
    "single_step(111, 5, is_used)"
   ]
  },
  {
   "cell_type": "code",
   "execution_count": null,
   "metadata": {},
   "outputs": [],
   "source": []
  }
 ],
 "metadata": {
  "kernelspec": {
   "display_name": "Python (op)",
   "language": "python",
   "name": "op"
  },
  "language_info": {
   "codemirror_mode": {
    "name": "ipython",
    "version": 3
   },
   "file_extension": ".py",
   "mimetype": "text/x-python",
   "name": "python",
   "nbconvert_exporter": "python",
   "pygments_lexer": "ipython3",
   "version": "3.6.7"
  }
 },
 "nbformat": 4,
 "nbformat_minor": 2
}
